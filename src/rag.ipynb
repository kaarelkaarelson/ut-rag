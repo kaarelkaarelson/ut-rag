{
 "cells": [
  {
   "cell_type": "code",
   "execution_count": 2,
   "metadata": {},
   "outputs": [
    {
     "name": "stderr",
     "output_type": "stream",
     "text": [
      "c:\\Users\\kaarelso\\AppData\\Local\\anaconda3\\envs\\ut-rag\\Lib\\site-packages\\pinecone\\data\\index.py:1: TqdmWarning: IProgress not found. Please update jupyter and ipywidgets. See https://ipywidgets.readthedocs.io/en/stable/user_install.html\n",
      "  from tqdm.autonotebook import tqdm\n"
     ]
    }
   ],
   "source": [
    "import os \n",
    "\n",
    "from langchain.chains import create_history_aware_retriever \n",
    "from langchain_core.prompts import MessagesPlaceholder\n",
    "\n",
    "from langchain.chains import create_retrieval_chain\n",
    "from langchain.chains.combine_documents import create_stuff_documents_chain\n",
    "from langchain_core.prompts import ChatPromptTemplate\n",
    "from langchain_openai import OpenAIEmbeddings\n",
    "from langchain_openai import OpenAIEmbeddings\n",
    "from langchain_pinecone import PineconeVectorStore\n",
    "from langchain_openai import ChatOpenAI\n",
    "from langchain_core.prompts import MessagesPlaceholder\n",
    "from langchain_core.prompts import MessagesPlaceholder\n",
    "from langchain_community.chat_message_histories import ChatMessageHistory\n",
    "from langchain_core.chat_history import BaseChatMessageHistory\n",
    "from langchain_core.runnables.history import RunnableWithMessageHistory\n"
   ]
  },
  {
   "cell_type": "code",
   "execution_count": 6,
   "metadata": {},
   "outputs": [],
   "source": [
    "PINECONE_INDEX_NAME = \"quickstart\"\n",
    "OPENAI_API_KEY = os.environ[\"OPENAI_API_KEY\"]\n",
    "PINECONE_API_KEY = os.environ[\"PINECONE_API_KEY\"]"
   ]
  },
  {
   "cell_type": "code",
   "execution_count": 3,
   "metadata": {},
   "outputs": [],
   "source": [
    "embeddings = OpenAIEmbeddings(model=\"text-embedding-3-small\", api_key=OPENAI_API_KEY)\n",
    "llm = ChatOpenAI(model=\"gpt-3.5-turbo\")\n",
    "\n",
    "# pc = Pinecone(api_key=pinecone_api_key)\n",
    "\n",
    "vectorstore = PineconeVectorStore.from_existing_index(\n",
    "    PINECONE_INDEX_NAME, embeddings\n",
    ")\n",
    "\n",
    "retriever = vectorstore.as_retriever()\n"
   ]
  },
  {
   "cell_type": "code",
   "execution_count": 4,
   "metadata": {},
   "outputs": [
    {
     "data": {
      "text/plain": [
       "[Document(page_content='<LINK>https://ut.ee/et/avaleht</LINK>Tartumaa EST 0 Sotsiaalteaduste valdkonna emeriitdotsendid Töötajate kontaktandmed Lossi 36 51003 Tartu linn , Tartu linn , Tartumaa EST 0 Meditsiiniteaduste valdkond Meditsiiniteaduste valdkonna dekanaat https : //meditsiiniteadused.ut.ee Töötajate kontaktandmed +372 737 5326 med @ ut.ee Ravila 19 50411 Tartu linn , Tartu linn , Tartumaa EST Bio- ja siirdemeditsiini instituut https : //biomeditsiin.ut.ee Töötajate kontaktandmed +372 737 4210 bsmi @ ut.ee Biomeedikum , Ravila 19 50411 Tartu linn , Tartu linn , Tartumaa EST Farmaatsia instituut https : //farmaatsia.ut.ee Töötajate kontaktandmed +372 737 5286 pharmacy @ ut.ee Nooruse 1 50411 Tartu linn , Tartu linn , Tartumaa EST Hambaarstiteaduse instituut https : //hambaarstiteadus.ut.ee Töötajate kontaktandmed +372 731 9856 L. Puusepa 1a 50406 Tartu linn , Tartu linn , Tartumaa EST Kliinilise meditsiini instituut https : //kliinilinemeditsiin.ut.ee Töötajate kontaktandmed +372 737 5324 kmi @ ut.ee L. Puusepa 8 50406 Tartu linn , Tartu linn , Tartumaa EST Peremeditsiini ja rahvatervishoiu instituut https : //tervis.ut.ee Töötajate kontaktandmed +372 737 4190 dph @ ut.ee Ravila 19 50411 Tartu linn , Tartu linn , Tartumaa EST Sporditeaduste ja füsioteraapia instituut https : //sporditeadused.ut.ee Töötajate kontaktandmed +372 737 5360 kkdek @ ut.ee Ujula 4 51008 Tartu linn , Tartu linn , Tartumaa EST Meditsiiniteaduste valdkonna emeriitprofessorid Töötajate kontaktandmed Ravila 50411 Tartu linn , Tartu linn , Tartumaa EST 0 Meditsiiniteaduste valdkonna emeriitdotsendid Töötajate kontaktandmed Ravila 19 50411 Tartu linn , Tartu linn , Tartumaa EST 0 Loodus- ja täppisteaduste valdkond Loodus- ja täppisteaduste valdkonna dekanaat https : //reaalteadused.ut.ee Töötajate kontaktandmed +372 737 5820 ltt @ ut.ee Vanemuise 46 - 208 51003 Tartu linn , Tartu linn , Tartumaa EST Arvutiteaduse instituut https : //cs.ut.ee Töötajate kontaktandmed +372 737 5445 unitartucs @ ut.ee Narva mnt 18 51009 Tartu linn , Tartu linn , Tartumaa EST Genoomika instituut https : //genoomika.ut.ee Töötajate kontaktandmed +372 737 5029 info.genoomika @ ut.ee Riia 23b/2 51010 Tartu linn , Tartu linn , Tartumaa EST Eesti mereinstituut https : //mereinstituut.ut.ee Töötajate kontaktandmed +372 671 8902 Mäealuse 14 12618 Tallinn , Harjumaa EST 0 Füüsika instituut https : //fi.ut.ee Töötajate kontaktandmed W. Ostwaldi 1 50411 Tartu linn , Tartu linn , Tartumaa EST Keemia instituut https : //chem.ut.ee Töötajate kontaktandmed +372 737 5261 chemistry @ ut.ee Ravila 14a 50411 Tartu linn , Tartu linn , Tartumaa EST Matemaatika ja statistika instituut https : //math.ut.ee Töötajate kontaktandmed +372 737 5863 ltms @ ut.ee Narva mnt 18 51009 Tartu linn , Tartu linn , Tartumaa EST 0 Molekulaar- ja rakubioloogia instituut https : //tymri.ut.ee Töötajate kontaktandmed +372 737 5027 Riia 23 , 23b - 134 51010 Tartu linn , Tartu linn , Tartumaa EST Tartu observatoorium https : //kosmos.ut.ee/ Töötajate kontaktandmed Observatooriumi 1 61602 Tõravere alevik , Nõo vald , Tartumaa EST 0 Tehnoloogiainstituut https : //tuit.ut.ee Töötajate kontaktandmed +372 737 4800 info @ tuit.ut.ee Nooruse 1 50411 Tartu linn , Tartu linn , Tartumaa EST Ökoloogia ja maateaduste instituut https : //omi.ut.ee Töötajate kontaktandmed +372 737 5835 om @ ut.ee J. Liivi tn 2 50409 Tartu linn , Tartu linn , Tartumaa EST Loodus- ja täppisteaduste valdkonna emeriitprofessorid Töötajate kontaktandmed Vanemuise 46 51003 Tartu linn , Tartu linn , Tartumaa EST 0 Loodus- ja täppisteaduste valdkonna emeriitdotsendid Töötajate kontaktandmed Vanemuise 46 51003 Tartu linn , Tartu linn , Tartumaa EST 0 Bioinseneeria instituut Töötajate kontaktandmed Akadeemilise sekretäri tegevusvaldkond Kirjastus Töötajate kontaktandmed Lossi 3 51003 Tartu linn , Tartu linn , Tartumaa EST 0 Personaliosakond Töötajate kontaktandmed +372 737 5145 personal @ ut.ee Ülikooli 18 , ruumid 302 ja 304 50090 Tartu linn , Tartu linn , Tartumaa EST 0 Finantsjuhi tegevusvaldkond Hankeosakond Töötajate kontaktandmed Ülikooli 17 51005 Tartu linn , Tartu linn , Tartumaa EST 0 Rahandusosakond Töötajate kontaktandmed +372 737 5125 rahandus @ ut.ee Jakobi 4 51005 Tartu linn , Tartu linn , Tartumaa EST 0 Kantsleri tegevusvaldkond Infotehnoloogia osakond Töötajate kontaktandmed +372 737 6000 itk @ ut.ee Uppsala 10 51003 Tartu linn , Tartu linn , Tartumaa EST 0 Kantselei Töötajate kontaktandmed +372 737 6302 kantselei @ ut.ee Ülikooli 17 ( III korrus ) 51005 Tartu linn , Tartu linn , Tartumaa EST 0 Kinnisvaraosakond Töötajate kontaktandmed +372 737 5137 Ülikooli 17 51005 Tartu linn , Tartu linn , Tartumaa EST 0 Turundus- ja kommunikatsiooniosakond Töötajate kontaktandmed +372 737 6569 avalik @ ut.ee Ülikooli 18 , ruumid 102 , 104 , 209 , 210 50090 Tartu linn , Tartu linn , Tartumaa EST 0 Õppeprorektori tegevusvaldkond Õppeosakond Töötajate kontaktandmed +372 737 5620 Ülikooli 18 50090 Tartu linn , Tartu linn , Tartumaa EST Teaduskool https : //teaduskool.ut.ee Töötajate kontaktandmed +372 737 5581 teaduskool @ ut.ee Uppsala 10 51003 Tartu linn , Tartu linn , Tartumaa EST Üliõpilaskonna büroo https : //tyye.ut.ee Töötajate kontaktandmed tyye @ ut.ee Ülikooli 18b 51005 Tartu linn , Tartu linn , Tartumaa EST 0 Õppimis- ja õpetamiskeskus https : //ut.ee/opetamine Töötajate kontaktandmed Lossi 36-401 51003 Tartu linn , Tartu linn , Tartumaa EST Teadusprorektori tegevusvaldkond Raamatukogu https : //utlib.ut.ee Töötajate kontaktandmed +372 737 5702 library @ ut.ee W. Struve 1 50091 Tartu linn , Tartu linn , Tartumaa EST Grandikeskus Töötajate kontaktandmed +372 737 6215 Raekoja plats 9 , III korrus 51004 Tartu linn , Tartu linn , Tartumaa EST Arendusprorektori tegevusvaldkond Ettevõtlus- ja innovatsioonikeskus https : //eik.ut.ee Töötajate kontaktandmed +372 737 4805 eik @ ut.ee Narva mnt 18 51009 Tartu linn , Tartu linn , Tartumaa EST 0 Loodusmuuseum ja botaanikaaed https : //natmuseum.ut.ee Töötajate kontaktandmed loodusmuuseum @ ut.ee Vanemuise 46 51003 Tartu linn , Tartu linn , Tartumaa EST 0 Rahvusvahelise koostöö ja protokolli osakond Töötajate kontaktandmed iro @ ut.ee Ülikooli 18 , ruum 305 50090 Tartu linn , Tartu linn , Tartumaa EST 0 Muuseum https : //muuseum.ut.ee Töötajate kontaktandmed muuseum @ ut.ee Lossi 25 51003 Tartu linn , Tartu linn , Tartumaa EST 0 Rektori tegevusvaldkond Rektoraadi büroo Töötajate kontaktandmed +372 737 5600 rektor @ ut.ee Ülikooli 18 50090 Tartu linn , Tartu linn , Tartumaa EST Siseauditi büroo Töötajate kontaktandmed siseaudit @ ut.ee Ülikooli 18 51005 Tartu linn , Tartu linn , Tartumaa EST Tartu Ülikool kaasprofessor Eneli Kindsiko valiti Eesti inimarengu aruande peatoimetajaks Loe edasi JÄRELVAADATAV : Tartu Ülikooli vilistlased võtsid linnas võimu üle laulu ja pillimängu saatel Tartu Ülikooli vilistlaste kokkutulek „ Tagasi ülikooli “ kulmineerus 18. mail ühislaulmisega peahoone ees , rongkäiguga läbi linna ja peoga ülikooli spordihoones . Teadmussiirdedoktorant ühendab töö ja õpingud Teadmussiirdedoktorantuur pakub ettevõttele , ülikoolile ja doktorandile ainulaadset koostöövõimalust . Selle ilmekaks näiteks on Jaan Vihalemm , kes rakendab oma teadustöö tulemusi ettevõttes BiotaTec . Rämpstoidul võib olla kahjulik mõju ajule Tartu Ülikooli teadlased uurivad hiirte peal , kuidas mõjutab rämpstoit aju . Käimasolev töö näitab , et isegi kui rämpstoitu süüakse harva , mõjutab see verest ajju liikuvate ainete takistamist ja võib halvendada aju tervist . Tartu Ülikooli päev Narvas 24. mail kutsub Narva kolledž kõiki gümnasiste ja üliõpilasi oma 25. sünnipäevale . Loe kõiki Tartu Ülikooli uudiseid Suurim valik erialasid ja täienduskoolitusi Eestis Tartu Ülikoolis on võimalik valida rohkem kui 160 õppekava ja 1200 täienduskoolituse vahel . Siinne arendav ja rahvusvaheline õpikeskkond , tippteadlaste juhendatud kraadiõpe ja paindlikud õppimisvõimalused loovad tingimused parima hariduse ja tulevikuoskuste omandamiseks . Õppetöös väärtustame praktilist lähenemist ja loovat mõtlemist ning soodustame uute tehnoloogiate kasutamist . Tutvu õpivõimalustega Bakalaureuse- ja magistriõpe Vaata õppekavasid Doktoriõpe Vaata programme Täiendusõpe Vaata koolitusi ja kursusi Mõjukas teaduskeskus'),\n",
       " Document(page_content='<LINK>https://ut.ee/et/sisu/ulikool-arvudes</LINK>ülikoolide 1,2 % seas Asume kahes maailma mainekaimate ülikoolide edetabelis esimese 400 hulgas ( 2023. aastal 358. koht edetabelis QS World University Rankings ja 301-350. koht edetabelis Times Higher Education World University Rankings ) . Loe lähemalt ülikooli kohtadest edetabelites . Kuulume maailma 1 % viidatuimate ülikoolide ja teadusasutuste hulka Ülikool on 15 teadusvaldkonnas maailma 1 % viidatuimate ülikoolide ja teadusasutuste hulgas . Üle 80 meie teadlase kuulub 1 % maailma enim viidatud teadlaste hulka ( Web of Science ) . Vaata lähemalt meie teadusstatistikat . Eesti teaduspublikatsioonidest üle poole avaldavad Tartu Ülikooli teadlased Viimasel viiel aastal on Tartu Ülikooli teadlased avaldanud keskmiselt 3500 publikatsiooni aastas , nendest keskmiselt 1300 Web of Science ’ i ja Scopuse andmebaasis . Vaata lähemalt ülikooli statistikaveebist . Tartu Ülikool on Eesti suurim täiendusõppe pakkuja 2023. aastal õppis meie 1489 kursusel 58 722 täiendusõppijat . Iga üliõpilase kohta oli peaaegu kolm täiendusõppijat . Loe lähemalt ülikooli täiendusõppest . Ülikool on hinnatud rahvusvaheline partner Ülikoolil on 66 partnerülikooli 26 riigist . Meie strateegilised partnerid on Euroopa tunnustatud teadusülikoolide võrgustikud ning Aasia ja Põhja-Ameerika kõrgetasemelised teadusülikoolid , kellega tehtav koostöö põhineb tippkompetentsil ja vastastikustel teaduskontaktidel . Loe lähemalt rahvusvahelisest ülikoolist . Tartu Ülikoolil on 24 kaitstavat leiutist 2021. aasta lõpuks kuulus Tartu Ülikoolile 52 kehtivat patenti ja sisse oli antud 37 patenditaotlust . Need kõik on esitatud kokku 24 leiutise kaitseks . 2021. aastal pakkus ülikool teadus- ja arendustegevuse teenuseid 12 miljoni euro eest Ettevõtetele ja avalikule sektorile pakutavad teadus- ja arendustegevuse teenused küündisid 2021. aastal 12 miljoni euroni . Loe lähemalt ülikooli ettevõtluskoostööst . Ülikooli 2024. aasta eelarve on ligi 264 miljonit eurot Tutvu ülikooli eelarvega . Statistikaveeb Loe lähemalt Aastaaruanded Loe lähemalt Uueks Tartu Ülikooli vabade kunstide professoriks saab muusik Kadri Voorand Tuleval õppeaastal saab Tartu Ülikooli uueks vabade kunstide professoriks laulja , pianist ja helilooja Kadri Voorand , kelle loengukursuse keskmes on elumuutev looming . Ameti annab talle üle senine professor lavastaja Peeter Jalakas , kellega peetakse 23. mai õhtupoolikul toomkiriku pööningusaalis avalik vestlus teemal „ Tunne ja mõte “ . 2024. aasta orienteerumisrajal saab ( taas ) tutvuda ülikooli ühiselamutega 8. maist kuni 20. oktoobrini on kõik huvilised oodatud läbima orienteerumisrada , kus saab tutvuda Tartu Ülikooli ühiselamute ajalooga . # vilistlaste kokkutulek # tudengile # ülikoolist 03.05.2024 Eksperdid arutasid kõrghariduse rahastamise tulevikku 26. aprillil arutleti kõrghariduse rahastamise pikaajalise plaani väljatöötamise üle . Tartu Ülikooli hooned kaardil Tartu Ülikooli kontaktandmed Andmekaitsetingimused Arvutiabi Teenused ja hanked Meenepood Veebi tagasiside'),\n",
       " Document(page_content='<LINK>https://ut.ee/et/sisu/oppimine-eksternina</LINK>instituut Kelli Kalda , kelli.kalda @ ut.ee , 737 5453 Molekulaar- ja rakubioloogia instituut Janika Vana , janika.vana @ ut.ee , 737 5027 Tehnoloogiainstituut Liina Katherine Viikmaa , liina.viikmaa @ ut.ee , 737 4882 Ökoloogia ja maateaduste instituut Margret Sisask , margret.sisask @ ut.ee , 737 5835 Loodusteadusliku hariduse keskus Maarika Otter , maarika.otter @ ut.ee , 737 5082 Õppekorralduse pealehele Varasemate õpingute ja töökogemuse arvestamine ( VÕTA ) Loe lähemalt Sisseastumine Vaata õppekavasid ja vastuvõtutingimusi Vabanenud õppekohale kandideerimine Loe lähemalt Pooleli jäänud õpingute jätkamine Loe lähemalt Tartu Ülikooli üliõpilasi oodatakse kandideerima Enlighti kaasatuse auhinnale Tartu Ülikooli üliõpilased saavad kandideerida Enlighti kaasatuse auhinnale , mis antakse esimest korda üle Tartus 7.–9 . oktoobrini toimuval õpetamise ja õppimise konverentsil . Sel aastal auhinnatakse üliõpilaste projekte ja algatusi . Uueks Tartu Ülikooli vabade kunstide professoriks saab muusik Kadri Voorand Tuleval õppeaastal saab Tartu Ülikooli uueks vabade kunstide professoriks laulja , pianist ja helilooja Kadri Voorand , kelle loengukursuse keskmes on elumuutev looming . Ameti annab talle üle senine professor lavastaja Peeter Jalakas , kellega peetakse 23. mai õhtupoolikul toomkiriku pööningusaalis avalik vestlus teemal „ Tunne ja mõte “ . Erasmus+ programmiga Euroopasse praktikale \\u200bVälismaal sooritatud praktika annab tudengitele suurepärase rahvusvahelise kogemuse , mis omakorda on suureks eelise tööturul . \\u200b Tartu Ülikooli hooned kaardil Tartu Ülikooli kontaktandmed Andmekaitsetingimused Arvutiabi Teenused ja hanked Meenepood Veebi tagasiside'),\n",
       " Document(page_content='<LINK>https://ut.ee/et/sisu/oppekava-taitmine</LINK>EAP ulatuses oma õppekava aineid , et üliõpilast ei eksmatrikuleeritaks edasijõudmatuse tõttu . 2 . Õppekava täitmine koormusega ettenähtud mahus Õppekava täitmist õppekoormusega ettenähtud mahus hinnatakse iga õppeaasta ( kahe õpitud semestri ) möödudes . Ühe õppeaasta õppemaht on 60 EAP-d ning ainepunkte arvestatakse kokkuvõttes kogu läbitud õppeaja kohta ( mitte iga semestri kohta eraldi ) . Täiskoormusega õppides tuleb läbida igal aastal 75 – 100 % õppekavas ettenähtud ainete mahust : esimese aasta lõpuks vähemalt 45 EAP-d ; teise aasta lõpuks kokku vähemalt 90 EAP-d ; kolmanda aasta lõpuks kokku vähemalt 135 EAP-d. Kui üliõpilane ei täida täiskoormusega õppe nõudeid , viiakse ta järgmiseks õppeaastaks üle osakoormusega õppesse ja ta peab hakkama õpingute eest tasuma . Osakoormusega õppides tuleb läbida 50 – 75 % õppekavas ettenähtud ainete mahust : esimese õppeaasta lõpuks vähemalt 30 EAP-d ; teise õppeaasta lõpuks kokku vähemalt 60 EAP-d ; kolmanda aasta lõpuks kokku vähemalt 90 EAP-d. Kui üliõpilane ei täida osakoormusega õppe nõudeid , ei ole ta seega täitnud õppekava minimaalset mahtu ja eksmatrikuleeritakse edasijõudmatuse tõttu . 3 . Õppekava täitmine tasuta õppimise mahus Õppekava täitmist tasuta õppimiseks hinnatakse kõigil , kes õpivad täiskoormusega eestikeelse õppekava alusel ja õppetasust vabastatud kohal võõrkeelse õppekava alusel . Hindamine toimub iga õpitud semestri lõppedes . Tasuta õppimiseks tuleb üliõpilasel igal semestril täita oma õppekava ettenähtud mahus ( 30 EAP-d ) . Ainepunkte arvestatakse kogu läbitud õppeaja kohta kokkuvõttes . Lubatud puudujääk , mil õppetasu veel maksma ei pea , on 6 EAP-d eelmiste semestrite peale kokku . Kui ainepunktide puudujääk on lubatust suurem , tuleb nende eest tasuda ainepunkti hinna alusel . Tasuta õppe miinimummaht on järgmine : esimesel semestril 24 EAP-d ; teisel semestril 54 EAP-d ; kolmandal semestril 84 EAP-d ; neljandal semestril 114 EAP-d jne . Mida peab teadma õppekava täitmise hindamisest ? Õppekava täitmise mahtu vaadatakse õppekava kontekstis , s.t arvestades õppekavast valitud mooduleid ja õppeaineid . Arvesse lähevad ka kõrvaleriala ained ja vabaained . Vabaaineid võetakse arvesse vabaainete mooduli mahu ulatuses . Kui muuta ÕIS-is õppekava valikuid ( mooduleid ) , muutub uute valikute järgi ka õppekava täitmise maht . Õppekava täitmise nominaalne maht on 30 EAP-d semestri kohta . Seda arvestatakse kokkuvõttes kogu läbitud õppeaja kohta , mitte iga semestri kohta eraldi . Arvesse lähevad kõik uue semestri algusele eelneva kuupäeva seisuga õpitulemused . Varasemate õpingute ja töökogemuse arvestamise ( VÕTA ) otsuse alusel arvestatud õpitulemusi arvestatakse VÕTA otsuse tegemise semestril ja õppeplaani alusel arvestatud õpitulemusi nende esitamise semestril . Õppekorralduse pealehele Moodulite valimine Loe lähemalt Varasemate õpingute ja töökogemuse arvestamine ( VÕTA ) Loe lähemalt Õppetasud Loe lähemalt Õppetoetused ja stipendiumid Loe lähemalt Teadmussiirdedoktorant ühendab töö ja õpingud Teadmussiirdedoktorantuur pakub ettevõttele , ülikoolile ja doktorandile ainulaadset koostöövõimalust . Selle ilmekaks näiteks on Jaan Vihalemm , kes rakendab oma teadustöö tulemusi ettevõttes BiotaTec . Tartu Ülikooli üliõpilasi oodatakse kandideerima Enlighti kaasatuse auhinnale Tartu Ülikooli üliõpilased saavad kandideerida Enlighti kaasatuse auhinnale , mis antakse esimest korda üle Tartus 7.–9 . oktoobrini toimuval õpetamise ja õppimise konverentsil . Sel aastal auhinnatakse üliõpilaste projekte ja algatusi . Uueks Tartu Ülikooli vabade kunstide professoriks saab muusik Kadri Voorand Tuleval õppeaastal saab Tartu Ülikooli uueks vabade kunstide professoriks laulja , pianist ja helilooja Kadri Voorand , kelle loengukursuse keskmes on elumuutev looming . Ameti annab talle üle senine professor lavastaja Peeter Jalakas , kellega peetakse 23. mai õhtupoolikul toomkiriku pööningusaalis avalik vestlus teemal „ Tunne ja mõte “ . Tartu Ülikooli hooned kaardil Tartu Ülikooli kontaktandmed Andmekaitsetingimused Arvutiabi Teenused ja hanked Meenepood Veebi tagasiside')]"
      ]
     },
     "execution_count": 4,
     "metadata": {},
     "output_type": "execute_result"
    }
   ],
   "source": [
    "# Check\n",
    "vectorstore.similarity_search(\"õppekavade arv Tartu ülikoolis\")"
   ]
  },
  {
   "cell_type": "code",
   "execution_count": 5,
   "metadata": {},
   "outputs": [],
   "source": [
    "contextualize_q_system_prompt = (\n",
    "    \"Given a chat history and the latest user question \"\n",
    "    \"which might reference context in the chat history, \"\n",
    "    \"formulate a standalone question which can be understood \"\n",
    "    \"without the chat history. Do NOT answer the question, \"\n",
    "    \"just reformulate it if needed and otherwise return it as is\"\n",
    ")\n",
    "\n",
    "contextualize_q_prompt = ChatPromptTemplate.from_messages(\n",
    "    [\n",
    "        (\"system\", contextualize_q_system_prompt),\n",
    "        MessagesPlaceholder(\"chat_history\"),\n",
    "        (\"human\", \"{input}\"),\n",
    "    ]\n",
    ")\n",
    "\n",
    "\n",
    "history_aware_retriever = create_history_aware_retriever(\n",
    "    llm, retriever, contextualize_q_prompt\n",
    ")"
   ]
  },
  {
   "cell_type": "code",
   "execution_count": 6,
   "metadata": {},
   "outputs": [],
   "source": [
    "system_prompt = (\n",
    "    \"Context information is below.\\n\"\n",
    "    \"---------------------\\n\"\n",
    "    \"{context}\\n\"\n",
    "    \"---------------------\\n\"\n",
    "    \"Given the context information and not prior knowledge,\"\n",
    "    \"Please answer the question, please answer user question\"\n",
    "    #\"Please answer the question: {query}\\n\"\n",
    "    #\"In language {language}\"\n",
    ")\n",
    "\n",
    "qa_prompt = ChatPromptTemplate.from_messages(\n",
    "    [\n",
    "        (\"system\", system_prompt),\n",
    "        MessagesPlaceholder(\"chat_history\"),\n",
    "        (\"human\", \"{input}\"),\n",
    "    ]\n",
    ")\n",
    "\n",
    "question_answer_chain = create_stuff_documents_chain(llm, qa_prompt)\n",
    "rag_chain = create_retrieval_chain(history_aware_retriever, question_answer_chain)"
   ]
  },
  {
   "cell_type": "code",
   "execution_count": 7,
   "metadata": {},
   "outputs": [],
   "source": [
    "store = {}\n",
    "\n",
    "def get_session_history(session_id: str) -> BaseChatMessageHistory:\n",
    "    if session_id not in store:\n",
    "        store[session_id] = ChatMessageHistory()\n",
    "    return store[session_id]\n",
    "\n",
    "\n",
    "conversational_rag_chain = RunnableWithMessageHistory(\n",
    "    rag_chain,\n",
    "    get_session_history,\n",
    "    input_messages_key=\"input\",\n",
    "    history_messages_key=\"chat_history\",\n",
    "    output_messages_key=\"answer\",\n",
    ")"
   ]
  },
  {
   "cell_type": "code",
   "execution_count": 8,
   "metadata": {},
   "outputs": [
    {
     "data": {
      "text/plain": [
       "'Jaan Aru is an associate professor at the Institute of Computer Science at the University of Tartu in Estonia. He studied psychology in Berlin, completed his PhD at the Max Planck Institute for Brain Research, and obtained a Marie Skłodowska-Curie fellowship for post-doctoral research with Matthew Larkum in Berlin. Jaan Aru has a background in AI, psychology, and neuroscience, and he is known for his research at the intersection of AI, deep learning, neuroscience, physics, and psychology. He has also published popular scientific books and received awards for science communication.'"
      ]
     },
     "execution_count": 8,
     "metadata": {},
     "output_type": "execute_result"
    }
   ],
   "source": [
    "conversational_rag_chain.invoke(\n",
    "    {\"input\": \"Who is Jaan Aru?\"},\n",
    "    config={\n",
    "        \"configurable\": {\"session_id\": \"abc123\"}\n",
    "    },  # constructs a key \"abc123\" in `store`.\n",
    ")[\"answer\"]"
   ]
  },
  {
   "cell_type": "code",
   "execution_count": 9,
   "metadata": {},
   "outputs": [
    {
     "name": "stdout",
     "output_type": "stream",
     "text": [
      "User: Who is Jaan Aru?\n",
      "\n",
      "AI: Jaan Aru is an associate professor at the Institute of Computer Science at the University of Tartu in Estonia. He studied psychology in Berlin, completed his PhD at the Max Planck Institute for Brain Research, and obtained a Marie Skłodowska-Curie fellowship for post-doctoral research with Matthew Larkum in Berlin. Jaan Aru has a background in AI, psychology, and neuroscience, and he is known for his research at the intersection of AI, deep learning, neuroscience, physics, and psychology. He has also published popular scientific books and received awards for science communication.\n",
      "\n"
     ]
    }
   ],
   "source": [
    "from langchain_core.messages import AIMessage\n",
    "\n",
    "for message in store[\"abc123\"].messages:\n",
    "    if isinstance(message, AIMessage):\n",
    "        prefix = \"AI\"\n",
    "    else:\n",
    "        prefix = \"User\"\n",
    "\n",
    "    print(f\"{prefix}: {message.content}\\n\")"
   ]
  },
  {
   "cell_type": "code",
   "execution_count": 60,
   "metadata": {},
   "outputs": [
    {
     "data": {
      "text/plain": [
       "'Jaan Aru works at the Natural and Artificial Intelligence Lab at the University of Tartu.'"
      ]
     },
     "execution_count": 60,
     "metadata": {},
     "output_type": "execute_result"
    }
   ],
   "source": [
    "conversational_rag_chain.invoke(\n",
    "    {\"input\": \"Which research group does he work at?\"},\n",
    "    config={\n",
    "        \"configurable\": {\"session_id\": \"abc123\"}\n",
    "    },\n",
    ")[\"answer\"]\n",
    "\n"
   ]
  },
  {
   "cell_type": "code",
   "execution_count": 62,
   "metadata": {},
   "outputs": [
    {
     "data": {
      "text/plain": [
       "\"Jaan Aru's email is jaan.aru@gmail.com.\""
      ]
     },
     "execution_count": 62,
     "metadata": {},
     "output_type": "execute_result"
    }
   ],
   "source": [
    "conversational_rag_chain.invoke(\n",
    "    {\"input\": \"What his email?\"},\n",
    "    config={\n",
    "        \"configurable\": {\"session_id\": \"abc123\"}\n",
    "    },\n",
    ")[\"answer\"]\n"
   ]
  },
  {
   "cell_type": "code",
   "execution_count": 27,
   "metadata": {},
   "outputs": [
    {
     "data": {
      "text/plain": [
       "'51864a0f-ac94-4ebb-9a1b-cdc97e980dcc'"
      ]
     },
     "execution_count": 27,
     "metadata": {},
     "output_type": "execute_result"
    }
   ],
   "source": [
    "import uuid\n",
    "str(uuid.uuid4())\n"
   ]
  },
  {
   "cell_type": "code",
   "execution_count": 19,
   "metadata": {},
   "outputs": [],
   "source": [
    "res = conversational_rag_chain.astream(\n",
    "    {\"input\": \"Which research group does he work at?\"},\n",
    "    config={\n",
    "        \"configurable\": {\"session_id\": \"abc123\"}\n",
    "    },\n",
    ")\n"
   ]
  },
  {
   "cell_type": "code",
   "execution_count": 22,
   "metadata": {},
   "outputs": [],
   "source": [
    "\n",
    "async for chunk in res:\n",
    "    print(chunk)"
   ]
  },
  {
   "cell_type": "code",
   "execution_count": 10,
   "metadata": {},
   "outputs": [
    {
     "data": {
      "text/plain": [
       "<generator object RunnableBindingBase.stream at 0x00000184B1772840>"
      ]
     },
     "execution_count": 10,
     "metadata": {},
     "output_type": "execute_result"
    }
   ],
   "source": [
    "model_name = \"gpt-3.5-turbo\"\n",
    "embedding_model_name = \"text-embedding-3-small\"\n",
    "pinecone_index_name = \"quickstart\"\n",
    "store = {}\n",
    "session_id = \"abc\"\n",
    "\n",
    "def get_session_history(session_id: str) -> BaseChatMessageHistory:\n",
    "    if session_id not in store:\n",
    "        store[session_id] = ChatMessageHistory()\n",
    "    return store[session_id]\n",
    "\n",
    "llm = ChatOpenAI(model=model_name)\n",
    "embeddings = OpenAIEmbeddings(model=embedding_model_name, api_key=OPENAI_API_KEY)\n",
    "       \n",
    "vectorstore = PineconeVectorStore.from_existing_index(\n",
    "    pinecone_index_name, embeddings\n",
    "    )\n",
    "\n",
    "retriever = vectorstore.as_retriever(search_kwargs={\"k\": 3})\n",
    "       \n",
    "contextualize_q_system_prompt = (\n",
    "    \"Given a chat history and the latest user question \"\n",
    "    \"which might reference context in the chat history, \"\n",
    "    \"formulate a standalone question which can be understood \"\n",
    "    \"without the chat history. Do NOT answer the question, \"\n",
    "    \"just reformulate it if needed and otherwise return it as is\"\n",
    ")\n",
    "       \n",
    "contextualize_q_prompt = ChatPromptTemplate.from_messages(\n",
    "    [\n",
    "        (\"system\", contextualize_q_system_prompt),\n",
    "        MessagesPlaceholder(\"chat_history\"),\n",
    "        (\"human\", \"{input}\"),\n",
    "    ]\n",
    ")\n",
    "       \n",
    "history_aware_retriever = create_history_aware_retriever(\n",
    "    llm, retriever, contextualize_q_prompt\n",
    ")\n",
    "       \n",
    "system_prompt = (\n",
    "    \"Context information is below.\\n\"\n",
    "    \"---------------------\\n\"\n",
    "    \"{context}\\n\"\n",
    "    \"---------------------\\n\"\n",
    "    \"Given the context information and not prior knowledge,\"\n",
    "    \"Please answer the question in the following language: {language}\"\n",
    ")\n",
    "       \n",
    "qa_prompt = ChatPromptTemplate.from_messages(\n",
    "    [\n",
    "        (\"system\", system_prompt),\n",
    "        MessagesPlaceholder(\"chat_history\"),\n",
    "        (\"human\", \"{input}\"),\n",
    "    ]\n",
    ")\n",
    "       \n",
    "question_answer_chain = create_stuff_documents_chain(llm, qa_prompt)\n",
    "rag_chain = create_retrieval_chain(history_aware_retriever, question_answer_chain)\n",
    "\n",
    "       \n",
    "conversational_rag_chain = RunnableWithMessageHistory(\n",
    "    rag_chain,\n",
    "    get_session_history,\n",
    "    input_messages_key=\"input\",\n",
    "    history_messages_key=\"chat_history\",\n",
    "    output_messages_key=\"answer\",\n",
    ")\n",
    "        \n",
    "question = \"Kes on Jaan Aru?\"\n",
    "language = \"English\" \n",
    "\n",
    "conversational_rag_chain.stream({\"input\": question, \"language\": language},\n",
    "                                            config={\"configurable\": {\"session_id\": session_id\n",
    "                                                                    }}, \n",
    "                                            )\n"
   ]
  },
  {
   "cell_type": "code",
   "execution_count": 12,
   "metadata": {},
   "outputs": [
    {
     "ename": "KeyError",
     "evalue": "\"Input to ChatPromptTemplate is missing variables {'chat_history'}.  Expected: ['chat_history', 'context', 'input', 'language'] Received: ['input', 'language', 'context']\"",
     "output_type": "error",
     "traceback": [
      "\u001b[1;31m---------------------------------------------------------------------------\u001b[0m",
      "\u001b[1;31mKeyError\u001b[0m                                  Traceback (most recent call last)",
      "Cell \u001b[1;32mIn[12], line 1\u001b[0m\n\u001b[1;32m----> 1\u001b[0m \u001b[43mrag_chain\u001b[49m\u001b[38;5;241;43m.\u001b[39;49m\u001b[43minvoke\u001b[49m\u001b[43m(\u001b[49m\u001b[43m{\u001b[49m\u001b[38;5;124;43m\"\u001b[39;49m\u001b[38;5;124;43minput\u001b[39;49m\u001b[38;5;124;43m\"\u001b[39;49m\u001b[43m:\u001b[49m\u001b[43m \u001b[49m\u001b[43mquestion\u001b[49m\u001b[43m,\u001b[49m\u001b[43m \u001b[49m\u001b[38;5;124;43m\"\u001b[39;49m\u001b[38;5;124;43mlanguage\u001b[39;49m\u001b[38;5;124;43m\"\u001b[39;49m\u001b[43m:\u001b[49m\u001b[43m \u001b[49m\u001b[43mlanguage\u001b[49m\u001b[43m}\u001b[49m\u001b[43m,\u001b[49m\n\u001b[0;32m      2\u001b[0m \u001b[43m                                            \u001b[49m\u001b[43mconfig\u001b[49m\u001b[38;5;241;43m=\u001b[39;49m\u001b[43m{\u001b[49m\u001b[38;5;124;43m\"\u001b[39;49m\u001b[38;5;124;43mconfigurable\u001b[39;49m\u001b[38;5;124;43m\"\u001b[39;49m\u001b[43m:\u001b[49m\u001b[43m \u001b[49m\u001b[43m{\u001b[49m\u001b[38;5;124;43m\"\u001b[39;49m\u001b[38;5;124;43msession_id\u001b[39;49m\u001b[38;5;124;43m\"\u001b[39;49m\u001b[43m:\u001b[49m\u001b[43m \u001b[49m\u001b[43msession_id\u001b[49m\n\u001b[0;32m      3\u001b[0m \u001b[43m                                                                    \u001b[49m\u001b[43m}\u001b[49m\u001b[43m}\u001b[49m\u001b[43m)\u001b[49m\n",
      "File \u001b[1;32mc:\\Users\\kaarelso\\AppData\\Local\\anaconda3\\envs\\ut-rag\\Lib\\site-packages\\langchain_core\\runnables\\base.py:4433\u001b[0m, in \u001b[0;36mRunnableBindingBase.invoke\u001b[1;34m(self, input, config, **kwargs)\u001b[0m\n\u001b[0;32m   4427\u001b[0m \u001b[38;5;28;01mdef\u001b[39;00m \u001b[38;5;21minvoke\u001b[39m(\n\u001b[0;32m   4428\u001b[0m     \u001b[38;5;28mself\u001b[39m,\n\u001b[0;32m   4429\u001b[0m     \u001b[38;5;28minput\u001b[39m: Input,\n\u001b[0;32m   4430\u001b[0m     config: Optional[RunnableConfig] \u001b[38;5;241m=\u001b[39m \u001b[38;5;28;01mNone\u001b[39;00m,\n\u001b[0;32m   4431\u001b[0m     \u001b[38;5;241m*\u001b[39m\u001b[38;5;241m*\u001b[39mkwargs: Optional[Any],\n\u001b[0;32m   4432\u001b[0m ) \u001b[38;5;241m-\u001b[39m\u001b[38;5;241m>\u001b[39m Output:\n\u001b[1;32m-> 4433\u001b[0m     \u001b[38;5;28;01mreturn\u001b[39;00m \u001b[38;5;28;43mself\u001b[39;49m\u001b[38;5;241;43m.\u001b[39;49m\u001b[43mbound\u001b[49m\u001b[38;5;241;43m.\u001b[39;49m\u001b[43minvoke\u001b[49m\u001b[43m(\u001b[49m\n\u001b[0;32m   4434\u001b[0m \u001b[43m        \u001b[49m\u001b[38;5;28;43minput\u001b[39;49m\u001b[43m,\u001b[49m\n\u001b[0;32m   4435\u001b[0m \u001b[43m        \u001b[49m\u001b[38;5;28;43mself\u001b[39;49m\u001b[38;5;241;43m.\u001b[39;49m\u001b[43m_merge_configs\u001b[49m\u001b[43m(\u001b[49m\u001b[43mconfig\u001b[49m\u001b[43m)\u001b[49m\u001b[43m,\u001b[49m\n\u001b[0;32m   4436\u001b[0m \u001b[43m        \u001b[49m\u001b[38;5;241;43m*\u001b[39;49m\u001b[38;5;241;43m*\u001b[39;49m\u001b[43m{\u001b[49m\u001b[38;5;241;43m*\u001b[39;49m\u001b[38;5;241;43m*\u001b[39;49m\u001b[38;5;28;43mself\u001b[39;49m\u001b[38;5;241;43m.\u001b[39;49m\u001b[43mkwargs\u001b[49m\u001b[43m,\u001b[49m\u001b[43m \u001b[49m\u001b[38;5;241;43m*\u001b[39;49m\u001b[38;5;241;43m*\u001b[39;49m\u001b[43mkwargs\u001b[49m\u001b[43m}\u001b[49m\u001b[43m,\u001b[49m\n\u001b[0;32m   4437\u001b[0m \u001b[43m    \u001b[49m\u001b[43m)\u001b[49m\n",
      "File \u001b[1;32mc:\\Users\\kaarelso\\AppData\\Local\\anaconda3\\envs\\ut-rag\\Lib\\site-packages\\langchain_core\\runnables\\base.py:2399\u001b[0m, in \u001b[0;36mRunnableSequence.invoke\u001b[1;34m(self, input, config)\u001b[0m\n\u001b[0;32m   2397\u001b[0m \u001b[38;5;28;01mtry\u001b[39;00m:\n\u001b[0;32m   2398\u001b[0m     \u001b[38;5;28;01mfor\u001b[39;00m i, step \u001b[38;5;129;01min\u001b[39;00m \u001b[38;5;28menumerate\u001b[39m(\u001b[38;5;28mself\u001b[39m\u001b[38;5;241m.\u001b[39msteps):\n\u001b[1;32m-> 2399\u001b[0m         \u001b[38;5;28minput\u001b[39m \u001b[38;5;241m=\u001b[39m \u001b[43mstep\u001b[49m\u001b[38;5;241;43m.\u001b[39;49m\u001b[43minvoke\u001b[49m\u001b[43m(\u001b[49m\n\u001b[0;32m   2400\u001b[0m \u001b[43m            \u001b[49m\u001b[38;5;28;43minput\u001b[39;49m\u001b[43m,\u001b[49m\n\u001b[0;32m   2401\u001b[0m \u001b[43m            \u001b[49m\u001b[38;5;66;43;03m# mark each step as a child run\u001b[39;49;00m\n\u001b[0;32m   2402\u001b[0m \u001b[43m            \u001b[49m\u001b[43mpatch_config\u001b[49m\u001b[43m(\u001b[49m\n\u001b[0;32m   2403\u001b[0m \u001b[43m                \u001b[49m\u001b[43mconfig\u001b[49m\u001b[43m,\u001b[49m\u001b[43m \u001b[49m\u001b[43mcallbacks\u001b[49m\u001b[38;5;241;43m=\u001b[39;49m\u001b[43mrun_manager\u001b[49m\u001b[38;5;241;43m.\u001b[39;49m\u001b[43mget_child\u001b[49m\u001b[43m(\u001b[49m\u001b[38;5;124;43mf\u001b[39;49m\u001b[38;5;124;43m\"\u001b[39;49m\u001b[38;5;124;43mseq:step:\u001b[39;49m\u001b[38;5;132;43;01m{\u001b[39;49;00m\u001b[43mi\u001b[49m\u001b[38;5;241;43m+\u001b[39;49m\u001b[38;5;241;43m1\u001b[39;49m\u001b[38;5;132;43;01m}\u001b[39;49;00m\u001b[38;5;124;43m\"\u001b[39;49m\u001b[43m)\u001b[49m\n\u001b[0;32m   2404\u001b[0m \u001b[43m            \u001b[49m\u001b[43m)\u001b[49m\u001b[43m,\u001b[49m\n\u001b[0;32m   2405\u001b[0m \u001b[43m        \u001b[49m\u001b[43m)\u001b[49m\n\u001b[0;32m   2406\u001b[0m \u001b[38;5;66;03m# finish the root run\u001b[39;00m\n\u001b[0;32m   2407\u001b[0m \u001b[38;5;28;01mexcept\u001b[39;00m \u001b[38;5;167;01mBaseException\u001b[39;00m \u001b[38;5;28;01mas\u001b[39;00m e:\n",
      "File \u001b[1;32mc:\\Users\\kaarelso\\AppData\\Local\\anaconda3\\envs\\ut-rag\\Lib\\site-packages\\langchain_core\\runnables\\passthrough.py:469\u001b[0m, in \u001b[0;36mRunnableAssign.invoke\u001b[1;34m(self, input, config, **kwargs)\u001b[0m\n\u001b[0;32m    463\u001b[0m \u001b[38;5;28;01mdef\u001b[39;00m \u001b[38;5;21minvoke\u001b[39m(\n\u001b[0;32m    464\u001b[0m     \u001b[38;5;28mself\u001b[39m,\n\u001b[0;32m    465\u001b[0m     \u001b[38;5;28minput\u001b[39m: Dict[\u001b[38;5;28mstr\u001b[39m, Any],\n\u001b[0;32m    466\u001b[0m     config: Optional[RunnableConfig] \u001b[38;5;241m=\u001b[39m \u001b[38;5;28;01mNone\u001b[39;00m,\n\u001b[0;32m    467\u001b[0m     \u001b[38;5;241m*\u001b[39m\u001b[38;5;241m*\u001b[39mkwargs: Any,\n\u001b[0;32m    468\u001b[0m ) \u001b[38;5;241m-\u001b[39m\u001b[38;5;241m>\u001b[39m Dict[\u001b[38;5;28mstr\u001b[39m, Any]:\n\u001b[1;32m--> 469\u001b[0m     \u001b[38;5;28;01mreturn\u001b[39;00m \u001b[38;5;28;43mself\u001b[39;49m\u001b[38;5;241;43m.\u001b[39;49m\u001b[43m_call_with_config\u001b[49m\u001b[43m(\u001b[49m\u001b[38;5;28;43mself\u001b[39;49m\u001b[38;5;241;43m.\u001b[39;49m\u001b[43m_invoke\u001b[49m\u001b[43m,\u001b[49m\u001b[43m \u001b[49m\u001b[38;5;28;43minput\u001b[39;49m\u001b[43m,\u001b[49m\u001b[43m \u001b[49m\u001b[43mconfig\u001b[49m\u001b[43m,\u001b[49m\u001b[43m \u001b[49m\u001b[38;5;241;43m*\u001b[39;49m\u001b[38;5;241;43m*\u001b[39;49m\u001b[43mkwargs\u001b[49m\u001b[43m)\u001b[49m\n",
      "File \u001b[1;32mc:\\Users\\kaarelso\\AppData\\Local\\anaconda3\\envs\\ut-rag\\Lib\\site-packages\\langchain_core\\runnables\\base.py:1509\u001b[0m, in \u001b[0;36mRunnable._call_with_config\u001b[1;34m(self, func, input, config, run_type, **kwargs)\u001b[0m\n\u001b[0;32m   1505\u001b[0m     context \u001b[38;5;241m=\u001b[39m copy_context()\n\u001b[0;32m   1506\u001b[0m     context\u001b[38;5;241m.\u001b[39mrun(_set_config_context, child_config)\n\u001b[0;32m   1507\u001b[0m     output \u001b[38;5;241m=\u001b[39m cast(\n\u001b[0;32m   1508\u001b[0m         Output,\n\u001b[1;32m-> 1509\u001b[0m         \u001b[43mcontext\u001b[49m\u001b[38;5;241;43m.\u001b[39;49m\u001b[43mrun\u001b[49m\u001b[43m(\u001b[49m\n\u001b[0;32m   1510\u001b[0m \u001b[43m            \u001b[49m\u001b[43mcall_func_with_variable_args\u001b[49m\u001b[43m,\u001b[49m\u001b[43m  \u001b[49m\u001b[38;5;66;43;03m# type: ignore[arg-type]\u001b[39;49;00m\n\u001b[0;32m   1511\u001b[0m \u001b[43m            \u001b[49m\u001b[43mfunc\u001b[49m\u001b[43m,\u001b[49m\u001b[43m  \u001b[49m\u001b[38;5;66;43;03m# type: ignore[arg-type]\u001b[39;49;00m\n\u001b[0;32m   1512\u001b[0m \u001b[43m            \u001b[49m\u001b[38;5;28;43minput\u001b[39;49m\u001b[43m,\u001b[49m\u001b[43m  \u001b[49m\u001b[38;5;66;43;03m# type: ignore[arg-type]\u001b[39;49;00m\n\u001b[0;32m   1513\u001b[0m \u001b[43m            \u001b[49m\u001b[43mconfig\u001b[49m\u001b[43m,\u001b[49m\n\u001b[0;32m   1514\u001b[0m \u001b[43m            \u001b[49m\u001b[43mrun_manager\u001b[49m\u001b[43m,\u001b[49m\n\u001b[0;32m   1515\u001b[0m \u001b[43m            \u001b[49m\u001b[38;5;241;43m*\u001b[39;49m\u001b[38;5;241;43m*\u001b[39;49m\u001b[43mkwargs\u001b[49m\u001b[43m,\u001b[49m\n\u001b[0;32m   1516\u001b[0m \u001b[43m        \u001b[49m\u001b[43m)\u001b[49m,\n\u001b[0;32m   1517\u001b[0m     )\n\u001b[0;32m   1518\u001b[0m \u001b[38;5;28;01mexcept\u001b[39;00m \u001b[38;5;167;01mBaseException\u001b[39;00m \u001b[38;5;28;01mas\u001b[39;00m e:\n\u001b[0;32m   1519\u001b[0m     run_manager\u001b[38;5;241m.\u001b[39mon_chain_error(e)\n",
      "File \u001b[1;32mc:\\Users\\kaarelso\\AppData\\Local\\anaconda3\\envs\\ut-rag\\Lib\\site-packages\\langchain_core\\runnables\\config.py:365\u001b[0m, in \u001b[0;36mcall_func_with_variable_args\u001b[1;34m(func, input, config, run_manager, **kwargs)\u001b[0m\n\u001b[0;32m    363\u001b[0m \u001b[38;5;28;01mif\u001b[39;00m run_manager \u001b[38;5;129;01mis\u001b[39;00m \u001b[38;5;129;01mnot\u001b[39;00m \u001b[38;5;28;01mNone\u001b[39;00m \u001b[38;5;129;01mand\u001b[39;00m accepts_run_manager(func):\n\u001b[0;32m    364\u001b[0m     kwargs[\u001b[38;5;124m\"\u001b[39m\u001b[38;5;124mrun_manager\u001b[39m\u001b[38;5;124m\"\u001b[39m] \u001b[38;5;241m=\u001b[39m run_manager\n\u001b[1;32m--> 365\u001b[0m \u001b[38;5;28;01mreturn\u001b[39;00m \u001b[43mfunc\u001b[49m\u001b[43m(\u001b[49m\u001b[38;5;28;43minput\u001b[39;49m\u001b[43m,\u001b[49m\u001b[43m \u001b[49m\u001b[38;5;241;43m*\u001b[39;49m\u001b[38;5;241;43m*\u001b[39;49m\u001b[43mkwargs\u001b[49m\u001b[43m)\u001b[49m\n",
      "File \u001b[1;32mc:\\Users\\kaarelso\\AppData\\Local\\anaconda3\\envs\\ut-rag\\Lib\\site-packages\\langchain_core\\runnables\\passthrough.py:456\u001b[0m, in \u001b[0;36mRunnableAssign._invoke\u001b[1;34m(self, input, run_manager, config, **kwargs)\u001b[0m\n\u001b[0;32m    443\u001b[0m \u001b[38;5;28;01mdef\u001b[39;00m \u001b[38;5;21m_invoke\u001b[39m(\n\u001b[0;32m    444\u001b[0m     \u001b[38;5;28mself\u001b[39m,\n\u001b[0;32m    445\u001b[0m     \u001b[38;5;28minput\u001b[39m: Dict[\u001b[38;5;28mstr\u001b[39m, Any],\n\u001b[1;32m   (...)\u001b[0m\n\u001b[0;32m    448\u001b[0m     \u001b[38;5;241m*\u001b[39m\u001b[38;5;241m*\u001b[39mkwargs: Any,\n\u001b[0;32m    449\u001b[0m ) \u001b[38;5;241m-\u001b[39m\u001b[38;5;241m>\u001b[39m Dict[\u001b[38;5;28mstr\u001b[39m, Any]:\n\u001b[0;32m    450\u001b[0m     \u001b[38;5;28;01massert\u001b[39;00m \u001b[38;5;28misinstance\u001b[39m(\n\u001b[0;32m    451\u001b[0m         \u001b[38;5;28minput\u001b[39m, \u001b[38;5;28mdict\u001b[39m\n\u001b[0;32m    452\u001b[0m     ), \u001b[38;5;124m\"\u001b[39m\u001b[38;5;124mThe input to RunnablePassthrough.assign() must be a dict.\u001b[39m\u001b[38;5;124m\"\u001b[39m\n\u001b[0;32m    454\u001b[0m     \u001b[38;5;28;01mreturn\u001b[39;00m {\n\u001b[0;32m    455\u001b[0m         \u001b[38;5;241m*\u001b[39m\u001b[38;5;241m*\u001b[39m\u001b[38;5;28minput\u001b[39m,\n\u001b[1;32m--> 456\u001b[0m         \u001b[38;5;241m*\u001b[39m\u001b[38;5;241m*\u001b[39m\u001b[38;5;28;43mself\u001b[39;49m\u001b[38;5;241;43m.\u001b[39;49m\u001b[43mmapper\u001b[49m\u001b[38;5;241;43m.\u001b[39;49m\u001b[43minvoke\u001b[49m\u001b[43m(\u001b[49m\n\u001b[0;32m    457\u001b[0m \u001b[43m            \u001b[49m\u001b[38;5;28;43minput\u001b[39;49m\u001b[43m,\u001b[49m\n\u001b[0;32m    458\u001b[0m \u001b[43m            \u001b[49m\u001b[43mpatch_config\u001b[49m\u001b[43m(\u001b[49m\u001b[43mconfig\u001b[49m\u001b[43m,\u001b[49m\u001b[43m \u001b[49m\u001b[43mcallbacks\u001b[49m\u001b[38;5;241;43m=\u001b[39;49m\u001b[43mrun_manager\u001b[49m\u001b[38;5;241;43m.\u001b[39;49m\u001b[43mget_child\u001b[49m\u001b[43m(\u001b[49m\u001b[43m)\u001b[49m\u001b[43m)\u001b[49m\u001b[43m,\u001b[49m\n\u001b[0;32m    459\u001b[0m \u001b[43m            \u001b[49m\u001b[38;5;241;43m*\u001b[39;49m\u001b[38;5;241;43m*\u001b[39;49m\u001b[43mkwargs\u001b[49m\u001b[43m,\u001b[49m\n\u001b[0;32m    460\u001b[0m \u001b[43m        \u001b[49m\u001b[43m)\u001b[49m,\n\u001b[0;32m    461\u001b[0m     }\n",
      "File \u001b[1;32mc:\\Users\\kaarelso\\AppData\\Local\\anaconda3\\envs\\ut-rag\\Lib\\site-packages\\langchain_core\\runnables\\base.py:3042\u001b[0m, in \u001b[0;36mRunnableParallel.invoke\u001b[1;34m(self, input, config)\u001b[0m\n\u001b[0;32m   3029\u001b[0m     \u001b[38;5;28;01mwith\u001b[39;00m get_executor_for_config(config) \u001b[38;5;28;01mas\u001b[39;00m executor:\n\u001b[0;32m   3030\u001b[0m         futures \u001b[38;5;241m=\u001b[39m [\n\u001b[0;32m   3031\u001b[0m             executor\u001b[38;5;241m.\u001b[39msubmit(\n\u001b[0;32m   3032\u001b[0m                 step\u001b[38;5;241m.\u001b[39minvoke,\n\u001b[1;32m   (...)\u001b[0m\n\u001b[0;32m   3040\u001b[0m             \u001b[38;5;28;01mfor\u001b[39;00m key, step \u001b[38;5;129;01min\u001b[39;00m steps\u001b[38;5;241m.\u001b[39mitems()\n\u001b[0;32m   3041\u001b[0m         ]\n\u001b[1;32m-> 3042\u001b[0m         output \u001b[38;5;241m=\u001b[39m \u001b[43m{\u001b[49m\u001b[43mkey\u001b[49m\u001b[43m:\u001b[49m\u001b[43m \u001b[49m\u001b[43mfuture\u001b[49m\u001b[38;5;241;43m.\u001b[39;49m\u001b[43mresult\u001b[49m\u001b[43m(\u001b[49m\u001b[43m)\u001b[49m\u001b[43m \u001b[49m\u001b[38;5;28;43;01mfor\u001b[39;49;00m\u001b[43m \u001b[49m\u001b[43mkey\u001b[49m\u001b[43m,\u001b[49m\u001b[43m \u001b[49m\u001b[43mfuture\u001b[49m\u001b[43m \u001b[49m\u001b[38;5;129;43;01min\u001b[39;49;00m\u001b[43m \u001b[49m\u001b[38;5;28;43mzip\u001b[39;49m\u001b[43m(\u001b[49m\u001b[43msteps\u001b[49m\u001b[43m,\u001b[49m\u001b[43m \u001b[49m\u001b[43mfutures\u001b[49m\u001b[43m)\u001b[49m\u001b[43m}\u001b[49m\n\u001b[0;32m   3043\u001b[0m \u001b[38;5;66;03m# finish the root run\u001b[39;00m\n\u001b[0;32m   3044\u001b[0m \u001b[38;5;28;01mexcept\u001b[39;00m \u001b[38;5;167;01mBaseException\u001b[39;00m \u001b[38;5;28;01mas\u001b[39;00m e:\n",
      "File \u001b[1;32mc:\\Users\\kaarelso\\AppData\\Local\\anaconda3\\envs\\ut-rag\\Lib\\site-packages\\langchain_core\\runnables\\base.py:3042\u001b[0m, in \u001b[0;36m<dictcomp>\u001b[1;34m(.0)\u001b[0m\n\u001b[0;32m   3029\u001b[0m     \u001b[38;5;28;01mwith\u001b[39;00m get_executor_for_config(config) \u001b[38;5;28;01mas\u001b[39;00m executor:\n\u001b[0;32m   3030\u001b[0m         futures \u001b[38;5;241m=\u001b[39m [\n\u001b[0;32m   3031\u001b[0m             executor\u001b[38;5;241m.\u001b[39msubmit(\n\u001b[0;32m   3032\u001b[0m                 step\u001b[38;5;241m.\u001b[39minvoke,\n\u001b[1;32m   (...)\u001b[0m\n\u001b[0;32m   3040\u001b[0m             \u001b[38;5;28;01mfor\u001b[39;00m key, step \u001b[38;5;129;01min\u001b[39;00m steps\u001b[38;5;241m.\u001b[39mitems()\n\u001b[0;32m   3041\u001b[0m         ]\n\u001b[1;32m-> 3042\u001b[0m         output \u001b[38;5;241m=\u001b[39m {key: \u001b[43mfuture\u001b[49m\u001b[38;5;241;43m.\u001b[39;49m\u001b[43mresult\u001b[49m\u001b[43m(\u001b[49m\u001b[43m)\u001b[49m \u001b[38;5;28;01mfor\u001b[39;00m key, future \u001b[38;5;129;01min\u001b[39;00m \u001b[38;5;28mzip\u001b[39m(steps, futures)}\n\u001b[0;32m   3043\u001b[0m \u001b[38;5;66;03m# finish the root run\u001b[39;00m\n\u001b[0;32m   3044\u001b[0m \u001b[38;5;28;01mexcept\u001b[39;00m \u001b[38;5;167;01mBaseException\u001b[39;00m \u001b[38;5;28;01mas\u001b[39;00m e:\n",
      "File \u001b[1;32mc:\\Users\\kaarelso\\AppData\\Local\\anaconda3\\envs\\ut-rag\\Lib\\concurrent\\futures\\_base.py:456\u001b[0m, in \u001b[0;36mFuture.result\u001b[1;34m(self, timeout)\u001b[0m\n\u001b[0;32m    454\u001b[0m     \u001b[38;5;28;01mraise\u001b[39;00m CancelledError()\n\u001b[0;32m    455\u001b[0m \u001b[38;5;28;01melif\u001b[39;00m \u001b[38;5;28mself\u001b[39m\u001b[38;5;241m.\u001b[39m_state \u001b[38;5;241m==\u001b[39m FINISHED:\n\u001b[1;32m--> 456\u001b[0m     \u001b[38;5;28;01mreturn\u001b[39;00m \u001b[38;5;28;43mself\u001b[39;49m\u001b[38;5;241;43m.\u001b[39;49m\u001b[43m__get_result\u001b[49m\u001b[43m(\u001b[49m\u001b[43m)\u001b[49m\n\u001b[0;32m    457\u001b[0m \u001b[38;5;28;01melse\u001b[39;00m:\n\u001b[0;32m    458\u001b[0m     \u001b[38;5;28;01mraise\u001b[39;00m \u001b[38;5;167;01mTimeoutError\u001b[39;00m()\n",
      "File \u001b[1;32mc:\\Users\\kaarelso\\AppData\\Local\\anaconda3\\envs\\ut-rag\\Lib\\concurrent\\futures\\_base.py:401\u001b[0m, in \u001b[0;36mFuture.__get_result\u001b[1;34m(self)\u001b[0m\n\u001b[0;32m    399\u001b[0m \u001b[38;5;28;01mif\u001b[39;00m \u001b[38;5;28mself\u001b[39m\u001b[38;5;241m.\u001b[39m_exception:\n\u001b[0;32m    400\u001b[0m     \u001b[38;5;28;01mtry\u001b[39;00m:\n\u001b[1;32m--> 401\u001b[0m         \u001b[38;5;28;01mraise\u001b[39;00m \u001b[38;5;28mself\u001b[39m\u001b[38;5;241m.\u001b[39m_exception\n\u001b[0;32m    402\u001b[0m     \u001b[38;5;28;01mfinally\u001b[39;00m:\n\u001b[0;32m    403\u001b[0m         \u001b[38;5;66;03m# Break a reference cycle with the exception in self._exception\u001b[39;00m\n\u001b[0;32m    404\u001b[0m         \u001b[38;5;28mself\u001b[39m \u001b[38;5;241m=\u001b[39m \u001b[38;5;28;01mNone\u001b[39;00m\n",
      "File \u001b[1;32mc:\\Users\\kaarelso\\AppData\\Local\\anaconda3\\envs\\ut-rag\\Lib\\concurrent\\futures\\thread.py:58\u001b[0m, in \u001b[0;36m_WorkItem.run\u001b[1;34m(self)\u001b[0m\n\u001b[0;32m     55\u001b[0m     \u001b[38;5;28;01mreturn\u001b[39;00m\n\u001b[0;32m     57\u001b[0m \u001b[38;5;28;01mtry\u001b[39;00m:\n\u001b[1;32m---> 58\u001b[0m     result \u001b[38;5;241m=\u001b[39m \u001b[38;5;28;43mself\u001b[39;49m\u001b[38;5;241;43m.\u001b[39;49m\u001b[43mfn\u001b[49m\u001b[43m(\u001b[49m\u001b[38;5;241;43m*\u001b[39;49m\u001b[38;5;28;43mself\u001b[39;49m\u001b[38;5;241;43m.\u001b[39;49m\u001b[43margs\u001b[49m\u001b[43m,\u001b[49m\u001b[43m \u001b[49m\u001b[38;5;241;43m*\u001b[39;49m\u001b[38;5;241;43m*\u001b[39;49m\u001b[38;5;28;43mself\u001b[39;49m\u001b[38;5;241;43m.\u001b[39;49m\u001b[43mkwargs\u001b[49m\u001b[43m)\u001b[49m\n\u001b[0;32m     59\u001b[0m \u001b[38;5;28;01mexcept\u001b[39;00m \u001b[38;5;167;01mBaseException\u001b[39;00m \u001b[38;5;28;01mas\u001b[39;00m exc:\n\u001b[0;32m     60\u001b[0m     \u001b[38;5;28mself\u001b[39m\u001b[38;5;241m.\u001b[39mfuture\u001b[38;5;241m.\u001b[39mset_exception(exc)\n",
      "File \u001b[1;32mc:\\Users\\kaarelso\\AppData\\Local\\anaconda3\\envs\\ut-rag\\Lib\\site-packages\\langchain_core\\runnables\\base.py:4433\u001b[0m, in \u001b[0;36mRunnableBindingBase.invoke\u001b[1;34m(self, input, config, **kwargs)\u001b[0m\n\u001b[0;32m   4427\u001b[0m \u001b[38;5;28;01mdef\u001b[39;00m \u001b[38;5;21minvoke\u001b[39m(\n\u001b[0;32m   4428\u001b[0m     \u001b[38;5;28mself\u001b[39m,\n\u001b[0;32m   4429\u001b[0m     \u001b[38;5;28minput\u001b[39m: Input,\n\u001b[0;32m   4430\u001b[0m     config: Optional[RunnableConfig] \u001b[38;5;241m=\u001b[39m \u001b[38;5;28;01mNone\u001b[39;00m,\n\u001b[0;32m   4431\u001b[0m     \u001b[38;5;241m*\u001b[39m\u001b[38;5;241m*\u001b[39mkwargs: Optional[Any],\n\u001b[0;32m   4432\u001b[0m ) \u001b[38;5;241m-\u001b[39m\u001b[38;5;241m>\u001b[39m Output:\n\u001b[1;32m-> 4433\u001b[0m     \u001b[38;5;28;01mreturn\u001b[39;00m \u001b[38;5;28;43mself\u001b[39;49m\u001b[38;5;241;43m.\u001b[39;49m\u001b[43mbound\u001b[49m\u001b[38;5;241;43m.\u001b[39;49m\u001b[43minvoke\u001b[49m\u001b[43m(\u001b[49m\n\u001b[0;32m   4434\u001b[0m \u001b[43m        \u001b[49m\u001b[38;5;28;43minput\u001b[39;49m\u001b[43m,\u001b[49m\n\u001b[0;32m   4435\u001b[0m \u001b[43m        \u001b[49m\u001b[38;5;28;43mself\u001b[39;49m\u001b[38;5;241;43m.\u001b[39;49m\u001b[43m_merge_configs\u001b[49m\u001b[43m(\u001b[49m\u001b[43mconfig\u001b[49m\u001b[43m)\u001b[49m\u001b[43m,\u001b[49m\n\u001b[0;32m   4436\u001b[0m \u001b[43m        \u001b[49m\u001b[38;5;241;43m*\u001b[39;49m\u001b[38;5;241;43m*\u001b[39;49m\u001b[43m{\u001b[49m\u001b[38;5;241;43m*\u001b[39;49m\u001b[38;5;241;43m*\u001b[39;49m\u001b[38;5;28;43mself\u001b[39;49m\u001b[38;5;241;43m.\u001b[39;49m\u001b[43mkwargs\u001b[49m\u001b[43m,\u001b[49m\u001b[43m \u001b[49m\u001b[38;5;241;43m*\u001b[39;49m\u001b[38;5;241;43m*\u001b[39;49m\u001b[43mkwargs\u001b[49m\u001b[43m}\u001b[49m\u001b[43m,\u001b[49m\n\u001b[0;32m   4437\u001b[0m \u001b[43m    \u001b[49m\u001b[43m)\u001b[49m\n",
      "File \u001b[1;32mc:\\Users\\kaarelso\\AppData\\Local\\anaconda3\\envs\\ut-rag\\Lib\\site-packages\\langchain_core\\runnables\\base.py:2399\u001b[0m, in \u001b[0;36mRunnableSequence.invoke\u001b[1;34m(self, input, config)\u001b[0m\n\u001b[0;32m   2397\u001b[0m \u001b[38;5;28;01mtry\u001b[39;00m:\n\u001b[0;32m   2398\u001b[0m     \u001b[38;5;28;01mfor\u001b[39;00m i, step \u001b[38;5;129;01min\u001b[39;00m \u001b[38;5;28menumerate\u001b[39m(\u001b[38;5;28mself\u001b[39m\u001b[38;5;241m.\u001b[39msteps):\n\u001b[1;32m-> 2399\u001b[0m         \u001b[38;5;28minput\u001b[39m \u001b[38;5;241m=\u001b[39m \u001b[43mstep\u001b[49m\u001b[38;5;241;43m.\u001b[39;49m\u001b[43minvoke\u001b[49m\u001b[43m(\u001b[49m\n\u001b[0;32m   2400\u001b[0m \u001b[43m            \u001b[49m\u001b[38;5;28;43minput\u001b[39;49m\u001b[43m,\u001b[49m\n\u001b[0;32m   2401\u001b[0m \u001b[43m            \u001b[49m\u001b[38;5;66;43;03m# mark each step as a child run\u001b[39;49;00m\n\u001b[0;32m   2402\u001b[0m \u001b[43m            \u001b[49m\u001b[43mpatch_config\u001b[49m\u001b[43m(\u001b[49m\n\u001b[0;32m   2403\u001b[0m \u001b[43m                \u001b[49m\u001b[43mconfig\u001b[49m\u001b[43m,\u001b[49m\u001b[43m \u001b[49m\u001b[43mcallbacks\u001b[49m\u001b[38;5;241;43m=\u001b[39;49m\u001b[43mrun_manager\u001b[49m\u001b[38;5;241;43m.\u001b[39;49m\u001b[43mget_child\u001b[49m\u001b[43m(\u001b[49m\u001b[38;5;124;43mf\u001b[39;49m\u001b[38;5;124;43m\"\u001b[39;49m\u001b[38;5;124;43mseq:step:\u001b[39;49m\u001b[38;5;132;43;01m{\u001b[39;49;00m\u001b[43mi\u001b[49m\u001b[38;5;241;43m+\u001b[39;49m\u001b[38;5;241;43m1\u001b[39;49m\u001b[38;5;132;43;01m}\u001b[39;49;00m\u001b[38;5;124;43m\"\u001b[39;49m\u001b[43m)\u001b[49m\n\u001b[0;32m   2404\u001b[0m \u001b[43m            \u001b[49m\u001b[43m)\u001b[49m\u001b[43m,\u001b[49m\n\u001b[0;32m   2405\u001b[0m \u001b[43m        \u001b[49m\u001b[43m)\u001b[49m\n\u001b[0;32m   2406\u001b[0m \u001b[38;5;66;03m# finish the root run\u001b[39;00m\n\u001b[0;32m   2407\u001b[0m \u001b[38;5;28;01mexcept\u001b[39;00m \u001b[38;5;167;01mBaseException\u001b[39;00m \u001b[38;5;28;01mas\u001b[39;00m e:\n",
      "File \u001b[1;32mc:\\Users\\kaarelso\\AppData\\Local\\anaconda3\\envs\\ut-rag\\Lib\\site-packages\\langchain_core\\prompts\\base.py:128\u001b[0m, in \u001b[0;36mBasePromptTemplate.invoke\u001b[1;34m(self, input, config)\u001b[0m\n\u001b[0;32m    126\u001b[0m \u001b[38;5;28;01mif\u001b[39;00m \u001b[38;5;28mself\u001b[39m\u001b[38;5;241m.\u001b[39mtags:\n\u001b[0;32m    127\u001b[0m     config[\u001b[38;5;124m\"\u001b[39m\u001b[38;5;124mtags\u001b[39m\u001b[38;5;124m\"\u001b[39m] \u001b[38;5;241m=\u001b[39m config[\u001b[38;5;124m\"\u001b[39m\u001b[38;5;124mtags\u001b[39m\u001b[38;5;124m\"\u001b[39m] \u001b[38;5;241m+\u001b[39m \u001b[38;5;28mself\u001b[39m\u001b[38;5;241m.\u001b[39mtags\n\u001b[1;32m--> 128\u001b[0m \u001b[38;5;28;01mreturn\u001b[39;00m \u001b[38;5;28;43mself\u001b[39;49m\u001b[38;5;241;43m.\u001b[39;49m\u001b[43m_call_with_config\u001b[49m\u001b[43m(\u001b[49m\n\u001b[0;32m    129\u001b[0m \u001b[43m    \u001b[49m\u001b[38;5;28;43mself\u001b[39;49m\u001b[38;5;241;43m.\u001b[39;49m\u001b[43m_format_prompt_with_error_handling\u001b[49m\u001b[43m,\u001b[49m\n\u001b[0;32m    130\u001b[0m \u001b[43m    \u001b[49m\u001b[38;5;28;43minput\u001b[39;49m\u001b[43m,\u001b[49m\n\u001b[0;32m    131\u001b[0m \u001b[43m    \u001b[49m\u001b[43mconfig\u001b[49m\u001b[43m,\u001b[49m\n\u001b[0;32m    132\u001b[0m \u001b[43m    \u001b[49m\u001b[43mrun_type\u001b[49m\u001b[38;5;241;43m=\u001b[39;49m\u001b[38;5;124;43m\"\u001b[39;49m\u001b[38;5;124;43mprompt\u001b[39;49m\u001b[38;5;124;43m\"\u001b[39;49m\u001b[43m,\u001b[49m\n\u001b[0;32m    133\u001b[0m \u001b[43m\u001b[49m\u001b[43m)\u001b[49m\n",
      "File \u001b[1;32mc:\\Users\\kaarelso\\AppData\\Local\\anaconda3\\envs\\ut-rag\\Lib\\site-packages\\langchain_core\\runnables\\base.py:1509\u001b[0m, in \u001b[0;36mRunnable._call_with_config\u001b[1;34m(self, func, input, config, run_type, **kwargs)\u001b[0m\n\u001b[0;32m   1505\u001b[0m     context \u001b[38;5;241m=\u001b[39m copy_context()\n\u001b[0;32m   1506\u001b[0m     context\u001b[38;5;241m.\u001b[39mrun(_set_config_context, child_config)\n\u001b[0;32m   1507\u001b[0m     output \u001b[38;5;241m=\u001b[39m cast(\n\u001b[0;32m   1508\u001b[0m         Output,\n\u001b[1;32m-> 1509\u001b[0m         \u001b[43mcontext\u001b[49m\u001b[38;5;241;43m.\u001b[39;49m\u001b[43mrun\u001b[49m\u001b[43m(\u001b[49m\n\u001b[0;32m   1510\u001b[0m \u001b[43m            \u001b[49m\u001b[43mcall_func_with_variable_args\u001b[49m\u001b[43m,\u001b[49m\u001b[43m  \u001b[49m\u001b[38;5;66;43;03m# type: ignore[arg-type]\u001b[39;49;00m\n\u001b[0;32m   1511\u001b[0m \u001b[43m            \u001b[49m\u001b[43mfunc\u001b[49m\u001b[43m,\u001b[49m\u001b[43m  \u001b[49m\u001b[38;5;66;43;03m# type: ignore[arg-type]\u001b[39;49;00m\n\u001b[0;32m   1512\u001b[0m \u001b[43m            \u001b[49m\u001b[38;5;28;43minput\u001b[39;49m\u001b[43m,\u001b[49m\u001b[43m  \u001b[49m\u001b[38;5;66;43;03m# type: ignore[arg-type]\u001b[39;49;00m\n\u001b[0;32m   1513\u001b[0m \u001b[43m            \u001b[49m\u001b[43mconfig\u001b[49m\u001b[43m,\u001b[49m\n\u001b[0;32m   1514\u001b[0m \u001b[43m            \u001b[49m\u001b[43mrun_manager\u001b[49m\u001b[43m,\u001b[49m\n\u001b[0;32m   1515\u001b[0m \u001b[43m            \u001b[49m\u001b[38;5;241;43m*\u001b[39;49m\u001b[38;5;241;43m*\u001b[39;49m\u001b[43mkwargs\u001b[49m\u001b[43m,\u001b[49m\n\u001b[0;32m   1516\u001b[0m \u001b[43m        \u001b[49m\u001b[43m)\u001b[49m,\n\u001b[0;32m   1517\u001b[0m     )\n\u001b[0;32m   1518\u001b[0m \u001b[38;5;28;01mexcept\u001b[39;00m \u001b[38;5;167;01mBaseException\u001b[39;00m \u001b[38;5;28;01mas\u001b[39;00m e:\n\u001b[0;32m   1519\u001b[0m     run_manager\u001b[38;5;241m.\u001b[39mon_chain_error(e)\n",
      "File \u001b[1;32mc:\\Users\\kaarelso\\AppData\\Local\\anaconda3\\envs\\ut-rag\\Lib\\site-packages\\langchain_core\\runnables\\config.py:365\u001b[0m, in \u001b[0;36mcall_func_with_variable_args\u001b[1;34m(func, input, config, run_manager, **kwargs)\u001b[0m\n\u001b[0;32m    363\u001b[0m \u001b[38;5;28;01mif\u001b[39;00m run_manager \u001b[38;5;129;01mis\u001b[39;00m \u001b[38;5;129;01mnot\u001b[39;00m \u001b[38;5;28;01mNone\u001b[39;00m \u001b[38;5;129;01mand\u001b[39;00m accepts_run_manager(func):\n\u001b[0;32m    364\u001b[0m     kwargs[\u001b[38;5;124m\"\u001b[39m\u001b[38;5;124mrun_manager\u001b[39m\u001b[38;5;124m\"\u001b[39m] \u001b[38;5;241m=\u001b[39m run_manager\n\u001b[1;32m--> 365\u001b[0m \u001b[38;5;28;01mreturn\u001b[39;00m \u001b[43mfunc\u001b[49m\u001b[43m(\u001b[49m\u001b[38;5;28;43minput\u001b[39;49m\u001b[43m,\u001b[49m\u001b[43m \u001b[49m\u001b[38;5;241;43m*\u001b[39;49m\u001b[38;5;241;43m*\u001b[39;49m\u001b[43mkwargs\u001b[49m\u001b[43m)\u001b[49m\n",
      "File \u001b[1;32mc:\\Users\\kaarelso\\AppData\\Local\\anaconda3\\envs\\ut-rag\\Lib\\site-packages\\langchain_core\\prompts\\base.py:111\u001b[0m, in \u001b[0;36mBasePromptTemplate._format_prompt_with_error_handling\u001b[1;34m(self, inner_input)\u001b[0m\n\u001b[0;32m    110\u001b[0m \u001b[38;5;28;01mdef\u001b[39;00m \u001b[38;5;21m_format_prompt_with_error_handling\u001b[39m(\u001b[38;5;28mself\u001b[39m, inner_input: Dict) \u001b[38;5;241m-\u001b[39m\u001b[38;5;241m>\u001b[39m PromptValue:\n\u001b[1;32m--> 111\u001b[0m     _inner_input \u001b[38;5;241m=\u001b[39m \u001b[38;5;28;43mself\u001b[39;49m\u001b[38;5;241;43m.\u001b[39;49m\u001b[43m_validate_input\u001b[49m\u001b[43m(\u001b[49m\u001b[43minner_input\u001b[49m\u001b[43m)\u001b[49m\n\u001b[0;32m    112\u001b[0m     \u001b[38;5;28;01mreturn\u001b[39;00m \u001b[38;5;28mself\u001b[39m\u001b[38;5;241m.\u001b[39mformat_prompt(\u001b[38;5;241m*\u001b[39m\u001b[38;5;241m*\u001b[39m_inner_input)\n",
      "File \u001b[1;32mc:\\Users\\kaarelso\\AppData\\Local\\anaconda3\\envs\\ut-rag\\Lib\\site-packages\\langchain_core\\prompts\\base.py:103\u001b[0m, in \u001b[0;36mBasePromptTemplate._validate_input\u001b[1;34m(self, inner_input)\u001b[0m\n\u001b[0;32m    101\u001b[0m missing \u001b[38;5;241m=\u001b[39m \u001b[38;5;28mset\u001b[39m(\u001b[38;5;28mself\u001b[39m\u001b[38;5;241m.\u001b[39minput_variables)\u001b[38;5;241m.\u001b[39mdifference(inner_input)\n\u001b[0;32m    102\u001b[0m \u001b[38;5;28;01mif\u001b[39;00m missing:\n\u001b[1;32m--> 103\u001b[0m     \u001b[38;5;28;01mraise\u001b[39;00m \u001b[38;5;167;01mKeyError\u001b[39;00m(\n\u001b[0;32m    104\u001b[0m         \u001b[38;5;124mf\u001b[39m\u001b[38;5;124m\"\u001b[39m\u001b[38;5;124mInput to \u001b[39m\u001b[38;5;132;01m{\u001b[39;00m\u001b[38;5;28mself\u001b[39m\u001b[38;5;241m.\u001b[39m\u001b[38;5;18m__class__\u001b[39m\u001b[38;5;241m.\u001b[39m\u001b[38;5;18m__name__\u001b[39m\u001b[38;5;132;01m}\u001b[39;00m\u001b[38;5;124m is missing variables \u001b[39m\u001b[38;5;132;01m{\u001b[39;00mmissing\u001b[38;5;132;01m}\u001b[39;00m\u001b[38;5;124m. \u001b[39m\u001b[38;5;124m\"\u001b[39m\n\u001b[0;32m    105\u001b[0m         \u001b[38;5;124mf\u001b[39m\u001b[38;5;124m\"\u001b[39m\u001b[38;5;124m Expected: \u001b[39m\u001b[38;5;132;01m{\u001b[39;00m\u001b[38;5;28mself\u001b[39m\u001b[38;5;241m.\u001b[39minput_variables\u001b[38;5;132;01m}\u001b[39;00m\u001b[38;5;124m\"\u001b[39m\n\u001b[0;32m    106\u001b[0m         \u001b[38;5;124mf\u001b[39m\u001b[38;5;124m\"\u001b[39m\u001b[38;5;124m Received: \u001b[39m\u001b[38;5;132;01m{\u001b[39;00m\u001b[38;5;28mlist\u001b[39m(inner_input\u001b[38;5;241m.\u001b[39mkeys())\u001b[38;5;132;01m}\u001b[39;00m\u001b[38;5;124m\"\u001b[39m\n\u001b[0;32m    107\u001b[0m     )\n\u001b[0;32m    108\u001b[0m \u001b[38;5;28;01mreturn\u001b[39;00m inner_input\n",
      "\u001b[1;31mKeyError\u001b[0m: \"Input to ChatPromptTemplate is missing variables {'chat_history'}.  Expected: ['chat_history', 'context', 'input', 'language'] Received: ['input', 'language', 'context']\""
     ]
    }
   ],
   "source": [
    "rag_chain.invoke({\"input\": question, \"language\": language},\n",
    "                                            config={\"configurable\": {\"session_id\": session_id\n",
    "                                                                    }})"
   ]
  }
 ],
 "metadata": {
  "kernelspec": {
   "display_name": "ut-rag",
   "language": "python",
   "name": "python3"
  },
  "language_info": {
   "codemirror_mode": {
    "name": "ipython",
    "version": 3
   },
   "file_extension": ".py",
   "mimetype": "text/x-python",
   "name": "python",
   "nbconvert_exporter": "python",
   "pygments_lexer": "ipython3",
   "version": "3.11.9"
  }
 },
 "nbformat": 4,
 "nbformat_minor": 2
}
