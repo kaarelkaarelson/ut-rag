{
 "cells": [
  {
   "cell_type": "code",
   "execution_count": 14,
   "metadata": {},
   "outputs": [],
   "source": [
    "import os \n",
    "\n",
    "from langchain.chains import create_history_aware_retriever \n",
    "from langchain_core.prompts import MessagesPlaceholder\n",
    "\n",
    "from langchain.chains import create_retrieval_chain\n",
    "from langchain.chains.combine_documents import create_stuff_documents_chain\n",
    "from langchain_core.prompts import ChatPromptTemplate\n",
    "from langchain_openai import OpenAIEmbeddings\n",
    "from langchain_openai import OpenAIEmbeddings\n",
    "from langchain_pinecone import PineconeVectorStore\n",
    "from langchain_openai import ChatOpenAI\n",
    "from langchain_core.prompts import MessagesPlaceholder\n",
    "from langchain_core.prompts import MessagesPlaceholder\n",
    "from langchain_community.chat_message_histories import ChatMessageHistory\n",
    "from langchain_core.chat_history import BaseChatMessageHistory\n",
    "from langchain_core.runnables.history import RunnableWithMessageHistory\n"
   ]
  },
  {
   "cell_type": "code",
   "execution_count": 15,
   "metadata": {},
   "outputs": [],
   "source": [
    "PINECONE_INDEX_NAME = \"quickstart\"\n",
    "OPENAI_API_KEY = os.environ[\"OPENAI_API_KEY\"]\n",
    "PINECONE_API_KEY = os.environ[\"PINECONE_API_KEY\"]"
   ]
  },
  {
   "cell_type": "code",
   "execution_count": 51,
   "metadata": {},
   "outputs": [],
   "source": [
    "embeddings = OpenAIEmbeddings(model=\"text-embedding-3-small\", api_key=OPENAI_API_KEY)\n",
    "llm = ChatOpenAI(model=\"gpt-3.5-turbo\")\n",
    "\n",
    "# pc = Pinecone(api_key=pinecone_api_key)\n",
    "\n",
    "vectorstore = PineconeVectorStore.from_existing_index(\n",
    "    PINECONE_INDEX_NAME, embeddings\n",
    ")\n",
    "\n",
    "retriever = vectorstore.as_retriever()\n"
   ]
  },
  {
   "cell_type": "code",
   "execution_count": 52,
   "metadata": {},
   "outputs": [
    {
     "data": {
      "text/plain": [
       "[Document(page_content='<LINK>https://ut.ee/et/avaleht</LINK>Tartumaa EST 0 Sotsiaalteaduste valdkonna emeriitdotsendid Töötajate kontaktandmed Lossi 36 51003 Tartu linn , Tartu linn , Tartumaa EST 0 Meditsiiniteaduste valdkond Meditsiiniteaduste valdkonna dekanaat https : //meditsiiniteadused.ut.ee Töötajate kontaktandmed +372 737 5326 med @ ut.ee Ravila 19 50411 Tartu linn , Tartu linn , Tartumaa EST Bio- ja siirdemeditsiini instituut https : //biomeditsiin.ut.ee Töötajate kontaktandmed +372 737 4210 bsmi @ ut.ee Biomeedikum , Ravila 19 50411 Tartu linn , Tartu linn , Tartumaa EST Farmaatsia instituut https : //farmaatsia.ut.ee Töötajate kontaktandmed +372 737 5286 pharmacy @ ut.ee Nooruse 1 50411 Tartu linn , Tartu linn , Tartumaa EST Hambaarstiteaduse instituut https : //hambaarstiteadus.ut.ee Töötajate kontaktandmed +372 731 9856 L. Puusepa 1a 50406 Tartu linn , Tartu linn , Tartumaa EST Kliinilise meditsiini instituut https : //kliinilinemeditsiin.ut.ee Töötajate kontaktandmed +372 737 5324 kmi @ ut.ee L. Puusepa 8 50406 Tartu linn , Tartu linn , Tartumaa EST Peremeditsiini ja rahvatervishoiu instituut https : //tervis.ut.ee Töötajate kontaktandmed +372 737 4190 dph @ ut.ee Ravila 19 50411 Tartu linn , Tartu linn , Tartumaa EST Sporditeaduste ja füsioteraapia instituut https : //sporditeadused.ut.ee Töötajate kontaktandmed +372 737 5360 kkdek @ ut.ee Ujula 4 51008 Tartu linn , Tartu linn , Tartumaa EST Meditsiiniteaduste valdkonna emeriitprofessorid Töötajate kontaktandmed Ravila 50411 Tartu linn , Tartu linn , Tartumaa EST 0 Meditsiiniteaduste valdkonna emeriitdotsendid Töötajate kontaktandmed Ravila 19 50411 Tartu linn , Tartu linn , Tartumaa EST 0 Loodus- ja täppisteaduste valdkond Loodus- ja täppisteaduste valdkonna dekanaat https : //reaalteadused.ut.ee Töötajate kontaktandmed +372 737 5820 ltt @ ut.ee Vanemuise 46 - 208 51003 Tartu linn , Tartu linn , Tartumaa EST Arvutiteaduse instituut https : //cs.ut.ee Töötajate kontaktandmed +372 737 5445 unitartucs @ ut.ee Narva mnt 18 51009 Tartu linn , Tartu linn , Tartumaa EST Genoomika instituut https : //genoomika.ut.ee Töötajate kontaktandmed +372 737 5029 info.genoomika @ ut.ee Riia 23b/2 51010 Tartu linn , Tartu linn , Tartumaa EST Eesti mereinstituut https : //mereinstituut.ut.ee Töötajate kontaktandmed +372 671 8902 Mäealuse 14 12618 Tallinn , Harjumaa EST 0 Füüsika instituut https : //fi.ut.ee Töötajate kontaktandmed W. Ostwaldi 1 50411 Tartu linn , Tartu linn , Tartumaa EST Keemia instituut https : //chem.ut.ee Töötajate kontaktandmed +372 737 5261 chemistry @ ut.ee Ravila 14a 50411 Tartu linn , Tartu linn , Tartumaa EST Matemaatika ja statistika instituut https : //math.ut.ee Töötajate kontaktandmed +372 737 5863 ltms @ ut.ee Narva mnt 18 51009 Tartu linn , Tartu linn , Tartumaa EST 0 Molekulaar- ja rakubioloogia instituut https : //tymri.ut.ee Töötajate kontaktandmed +372 737 5027 Riia 23 , 23b - 134 51010 Tartu linn , Tartu linn , Tartumaa EST Tartu observatoorium https : //kosmos.ut.ee/ Töötajate kontaktandmed Observatooriumi 1 61602 Tõravere alevik , Nõo vald , Tartumaa EST 0 Tehnoloogiainstituut https : //tuit.ut.ee Töötajate kontaktandmed +372 737 4800 info @ tuit.ut.ee Nooruse 1 50411 Tartu linn , Tartu linn , Tartumaa EST Ökoloogia ja maateaduste instituut https : //omi.ut.ee Töötajate kontaktandmed +372 737 5835 om @ ut.ee J. Liivi tn 2 50409 Tartu linn , Tartu linn , Tartumaa EST Loodus- ja täppisteaduste valdkonna emeriitprofessorid Töötajate kontaktandmed Vanemuise 46 51003 Tartu linn , Tartu linn , Tartumaa EST 0 Loodus- ja täppisteaduste valdkonna emeriitdotsendid Töötajate kontaktandmed Vanemuise 46 51003 Tartu linn , Tartu linn , Tartumaa EST 0 Bioinseneeria instituut Töötajate kontaktandmed Akadeemilise sekretäri tegevusvaldkond Kirjastus Töötajate kontaktandmed Lossi 3 51003 Tartu linn , Tartu linn , Tartumaa EST 0 Personaliosakond Töötajate kontaktandmed +372 737 5145 personal @ ut.ee Ülikooli 18 , ruumid 302 ja 304 50090 Tartu linn , Tartu linn , Tartumaa EST 0 Finantsjuhi tegevusvaldkond Hankeosakond Töötajate kontaktandmed Ülikooli 17 51005 Tartu linn , Tartu linn , Tartumaa EST 0 Rahandusosakond Töötajate kontaktandmed +372 737 5125 rahandus @ ut.ee Jakobi 4 51005 Tartu linn , Tartu linn , Tartumaa EST 0 Kantsleri tegevusvaldkond Infotehnoloogia osakond Töötajate kontaktandmed +372 737 6000 itk @ ut.ee Uppsala 10 51003 Tartu linn , Tartu linn , Tartumaa EST 0 Kantselei Töötajate kontaktandmed +372 737 6302 kantselei @ ut.ee Ülikooli 17 ( III korrus ) 51005 Tartu linn , Tartu linn , Tartumaa EST 0 Kinnisvaraosakond Töötajate kontaktandmed +372 737 5137 Ülikooli 17 51005 Tartu linn , Tartu linn , Tartumaa EST 0 Turundus- ja kommunikatsiooniosakond Töötajate kontaktandmed +372 737 6569 avalik @ ut.ee Ülikooli 18 , ruumid 102 , 104 , 209 , 210 50090 Tartu linn , Tartu linn , Tartumaa EST 0 Õppeprorektori tegevusvaldkond Õppeosakond Töötajate kontaktandmed +372 737 5620 Ülikooli 18 50090 Tartu linn , Tartu linn , Tartumaa EST Teaduskool https : //teaduskool.ut.ee Töötajate kontaktandmed +372 737 5581 teaduskool @ ut.ee Uppsala 10 51003 Tartu linn , Tartu linn , Tartumaa EST Üliõpilaskonna büroo https : //tyye.ut.ee Töötajate kontaktandmed tyye @ ut.ee Ülikooli 18b 51005 Tartu linn , Tartu linn , Tartumaa EST 0 Õppimis- ja õpetamiskeskus https : //ut.ee/opetamine Töötajate kontaktandmed Lossi 36-401 51003 Tartu linn , Tartu linn , Tartumaa EST Teadusprorektori tegevusvaldkond Raamatukogu https : //utlib.ut.ee Töötajate kontaktandmed +372 737 5702 library @ ut.ee W. Struve 1 50091 Tartu linn , Tartu linn , Tartumaa EST Grandikeskus Töötajate kontaktandmed +372 737 6215 Raekoja plats 9 , III korrus 51004 Tartu linn , Tartu linn , Tartumaa EST Arendusprorektori tegevusvaldkond Ettevõtlus- ja innovatsioonikeskus https : //eik.ut.ee Töötajate kontaktandmed +372 737 4805 eik @ ut.ee Narva mnt 18 51009 Tartu linn , Tartu linn , Tartumaa EST 0 Loodusmuuseum ja botaanikaaed https : //natmuseum.ut.ee Töötajate kontaktandmed loodusmuuseum @ ut.ee Vanemuise 46 51003 Tartu linn , Tartu linn , Tartumaa EST 0 Rahvusvahelise koostöö ja protokolli osakond Töötajate kontaktandmed iro @ ut.ee Ülikooli 18 , ruum 305 50090 Tartu linn , Tartu linn , Tartumaa EST 0 Muuseum https : //muuseum.ut.ee Töötajate kontaktandmed muuseum @ ut.ee Lossi 25 51003 Tartu linn , Tartu linn , Tartumaa EST 0 Rektori tegevusvaldkond Rektoraadi büroo Töötajate kontaktandmed +372 737 5600 rektor @ ut.ee Ülikooli 18 50090 Tartu linn , Tartu linn , Tartumaa EST Siseauditi büroo Töötajate kontaktandmed siseaudit @ ut.ee Ülikooli 18 51005 Tartu linn , Tartu linn , Tartumaa EST Tartu Ülikool kaasprofessor Eneli Kindsiko valiti Eesti inimarengu aruande peatoimetajaks Loe edasi JÄRELVAADATAV : Tartu Ülikooli vilistlased võtsid linnas võimu üle laulu ja pillimängu saatel Tartu Ülikooli vilistlaste kokkutulek „ Tagasi ülikooli “ kulmineerus 18. mail ühislaulmisega peahoone ees , rongkäiguga läbi linna ja peoga ülikooli spordihoones . Teadmussiirdedoktorant ühendab töö ja õpingud Teadmussiirdedoktorantuur pakub ettevõttele , ülikoolile ja doktorandile ainulaadset koostöövõimalust . Selle ilmekaks näiteks on Jaan Vihalemm , kes rakendab oma teadustöö tulemusi ettevõttes BiotaTec . Rämpstoidul võib olla kahjulik mõju ajule Tartu Ülikooli teadlased uurivad hiirte peal , kuidas mõjutab rämpstoit aju . Käimasolev töö näitab , et isegi kui rämpstoitu süüakse harva , mõjutab see verest ajju liikuvate ainete takistamist ja võib halvendada aju tervist . Tartu Ülikooli päev Narvas 24. mail kutsub Narva kolledž kõiki gümnasiste ja üliõpilasi oma 25. sünnipäevale . Loe kõiki Tartu Ülikooli uudiseid Suurim valik erialasid ja täienduskoolitusi Eestis Tartu Ülikoolis on võimalik valida rohkem kui 160 õppekava ja 1200 täienduskoolituse vahel . Siinne arendav ja rahvusvaheline õpikeskkond , tippteadlaste juhendatud kraadiõpe ja paindlikud õppimisvõimalused loovad tingimused parima hariduse ja tulevikuoskuste omandamiseks . Õppetöös väärtustame praktilist lähenemist ja loovat mõtlemist ning soodustame uute tehnoloogiate kasutamist . Tutvu õpivõimalustega Bakalaureuse- ja magistriõpe Vaata õppekavasid Doktoriõpe Vaata programme Täiendusõpe Vaata koolitusi ja kursusi Mõjukas teaduskeskus'),\n",
       " Document(page_content='<LINK>https://ut.ee/et/sisu/ulikool-arvudes</LINK>ülikoolide 1,2 % seas Asume kahes maailma mainekaimate ülikoolide edetabelis esimese 400 hulgas ( 2023. aastal 358. koht edetabelis QS World University Rankings ja 301-350. koht edetabelis Times Higher Education World University Rankings ) . Loe lähemalt ülikooli kohtadest edetabelites . Kuulume maailma 1 % viidatuimate ülikoolide ja teadusasutuste hulka Ülikool on 15 teadusvaldkonnas maailma 1 % viidatuimate ülikoolide ja teadusasutuste hulgas . Üle 80 meie teadlase kuulub 1 % maailma enim viidatud teadlaste hulka ( Web of Science ) . Vaata lähemalt meie teadusstatistikat . Eesti teaduspublikatsioonidest üle poole avaldavad Tartu Ülikooli teadlased Viimasel viiel aastal on Tartu Ülikooli teadlased avaldanud keskmiselt 3500 publikatsiooni aastas , nendest keskmiselt 1300 Web of Science ’ i ja Scopuse andmebaasis . Vaata lähemalt ülikooli statistikaveebist . Tartu Ülikool on Eesti suurim täiendusõppe pakkuja 2023. aastal õppis meie 1489 kursusel 58 722 täiendusõppijat . Iga üliõpilase kohta oli peaaegu kolm täiendusõppijat . Loe lähemalt ülikooli täiendusõppest . Ülikool on hinnatud rahvusvaheline partner Ülikoolil on 66 partnerülikooli 26 riigist . Meie strateegilised partnerid on Euroopa tunnustatud teadusülikoolide võrgustikud ning Aasia ja Põhja-Ameerika kõrgetasemelised teadusülikoolid , kellega tehtav koostöö põhineb tippkompetentsil ja vastastikustel teaduskontaktidel . Loe lähemalt rahvusvahelisest ülikoolist . Tartu Ülikoolil on 24 kaitstavat leiutist 2021. aasta lõpuks kuulus Tartu Ülikoolile 52 kehtivat patenti ja sisse oli antud 37 patenditaotlust . Need kõik on esitatud kokku 24 leiutise kaitseks . 2021. aastal pakkus ülikool teadus- ja arendustegevuse teenuseid 12 miljoni euro eest Ettevõtetele ja avalikule sektorile pakutavad teadus- ja arendustegevuse teenused küündisid 2021. aastal 12 miljoni euroni . Loe lähemalt ülikooli ettevõtluskoostööst . Ülikooli 2024. aasta eelarve on ligi 264 miljonit eurot Tutvu ülikooli eelarvega . Statistikaveeb Loe lähemalt Aastaaruanded Loe lähemalt Uueks Tartu Ülikooli vabade kunstide professoriks saab muusik Kadri Voorand Tuleval õppeaastal saab Tartu Ülikooli uueks vabade kunstide professoriks laulja , pianist ja helilooja Kadri Voorand , kelle loengukursuse keskmes on elumuutev looming . Ameti annab talle üle senine professor lavastaja Peeter Jalakas , kellega peetakse 23. mai õhtupoolikul toomkiriku pööningusaalis avalik vestlus teemal „ Tunne ja mõte “ . 2024. aasta orienteerumisrajal saab ( taas ) tutvuda ülikooli ühiselamutega 8. maist kuni 20. oktoobrini on kõik huvilised oodatud läbima orienteerumisrada , kus saab tutvuda Tartu Ülikooli ühiselamute ajalooga . # vilistlaste kokkutulek # tudengile # ülikoolist 03.05.2024 Eksperdid arutasid kõrghariduse rahastamise tulevikku 26. aprillil arutleti kõrghariduse rahastamise pikaajalise plaani väljatöötamise üle . Tartu Ülikooli hooned kaardil Tartu Ülikooli kontaktandmed Andmekaitsetingimused Arvutiabi Teenused ja hanked Meenepood Veebi tagasiside'),\n",
       " Document(page_content='<LINK>https://ut.ee/et/sisu/oppimine-eksternina</LINK>instituut Kelli Kalda , kelli.kalda @ ut.ee , 737 5453 Molekulaar- ja rakubioloogia instituut Janika Vana , janika.vana @ ut.ee , 737 5027 Tehnoloogiainstituut Liina Katherine Viikmaa , liina.viikmaa @ ut.ee , 737 4882 Ökoloogia ja maateaduste instituut Margret Sisask , margret.sisask @ ut.ee , 737 5835 Loodusteadusliku hariduse keskus Maarika Otter , maarika.otter @ ut.ee , 737 5082 Õppekorralduse pealehele Varasemate õpingute ja töökogemuse arvestamine ( VÕTA ) Loe lähemalt Sisseastumine Vaata õppekavasid ja vastuvõtutingimusi Vabanenud õppekohale kandideerimine Loe lähemalt Pooleli jäänud õpingute jätkamine Loe lähemalt Tartu Ülikooli üliõpilasi oodatakse kandideerima Enlighti kaasatuse auhinnale Tartu Ülikooli üliõpilased saavad kandideerida Enlighti kaasatuse auhinnale , mis antakse esimest korda üle Tartus 7.–9 . oktoobrini toimuval õpetamise ja õppimise konverentsil . Sel aastal auhinnatakse üliõpilaste projekte ja algatusi . Uueks Tartu Ülikooli vabade kunstide professoriks saab muusik Kadri Voorand Tuleval õppeaastal saab Tartu Ülikooli uueks vabade kunstide professoriks laulja , pianist ja helilooja Kadri Voorand , kelle loengukursuse keskmes on elumuutev looming . Ameti annab talle üle senine professor lavastaja Peeter Jalakas , kellega peetakse 23. mai õhtupoolikul toomkiriku pööningusaalis avalik vestlus teemal „ Tunne ja mõte “ . Erasmus+ programmiga Euroopasse praktikale \\u200bVälismaal sooritatud praktika annab tudengitele suurepärase rahvusvahelise kogemuse , mis omakorda on suureks eelise tööturul . \\u200b Tartu Ülikooli hooned kaardil Tartu Ülikooli kontaktandmed Andmekaitsetingimused Arvutiabi Teenused ja hanked Meenepood Veebi tagasiside'),\n",
       " Document(page_content='<LINK>https://ut.ee/et/sisu/oppekava-taitmine</LINK>EAP ulatuses oma õppekava aineid , et üliõpilast ei eksmatrikuleeritaks edasijõudmatuse tõttu . 2 . Õppekava täitmine koormusega ettenähtud mahus Õppekava täitmist õppekoormusega ettenähtud mahus hinnatakse iga õppeaasta ( kahe õpitud semestri ) möödudes . Ühe õppeaasta õppemaht on 60 EAP-d ning ainepunkte arvestatakse kokkuvõttes kogu läbitud õppeaja kohta ( mitte iga semestri kohta eraldi ) . Täiskoormusega õppides tuleb läbida igal aastal 75 – 100 % õppekavas ettenähtud ainete mahust : esimese aasta lõpuks vähemalt 45 EAP-d ; teise aasta lõpuks kokku vähemalt 90 EAP-d ; kolmanda aasta lõpuks kokku vähemalt 135 EAP-d. Kui üliõpilane ei täida täiskoormusega õppe nõudeid , viiakse ta järgmiseks õppeaastaks üle osakoormusega õppesse ja ta peab hakkama õpingute eest tasuma . Osakoormusega õppides tuleb läbida 50 – 75 % õppekavas ettenähtud ainete mahust : esimese õppeaasta lõpuks vähemalt 30 EAP-d ; teise õppeaasta lõpuks kokku vähemalt 60 EAP-d ; kolmanda aasta lõpuks kokku vähemalt 90 EAP-d. Kui üliõpilane ei täida osakoormusega õppe nõudeid , ei ole ta seega täitnud õppekava minimaalset mahtu ja eksmatrikuleeritakse edasijõudmatuse tõttu . 3 . Õppekava täitmine tasuta õppimise mahus Õppekava täitmist tasuta õppimiseks hinnatakse kõigil , kes õpivad täiskoormusega eestikeelse õppekava alusel ja õppetasust vabastatud kohal võõrkeelse õppekava alusel . Hindamine toimub iga õpitud semestri lõppedes . Tasuta õppimiseks tuleb üliõpilasel igal semestril täita oma õppekava ettenähtud mahus ( 30 EAP-d ) . Ainepunkte arvestatakse kogu läbitud õppeaja kohta kokkuvõttes . Lubatud puudujääk , mil õppetasu veel maksma ei pea , on 6 EAP-d eelmiste semestrite peale kokku . Kui ainepunktide puudujääk on lubatust suurem , tuleb nende eest tasuda ainepunkti hinna alusel . Tasuta õppe miinimummaht on järgmine : esimesel semestril 24 EAP-d ; teisel semestril 54 EAP-d ; kolmandal semestril 84 EAP-d ; neljandal semestril 114 EAP-d jne . Mida peab teadma õppekava täitmise hindamisest ? Õppekava täitmise mahtu vaadatakse õppekava kontekstis , s.t arvestades õppekavast valitud mooduleid ja õppeaineid . Arvesse lähevad ka kõrvaleriala ained ja vabaained . Vabaaineid võetakse arvesse vabaainete mooduli mahu ulatuses . Kui muuta ÕIS-is õppekava valikuid ( mooduleid ) , muutub uute valikute järgi ka õppekava täitmise maht . Õppekava täitmise nominaalne maht on 30 EAP-d semestri kohta . Seda arvestatakse kokkuvõttes kogu läbitud õppeaja kohta , mitte iga semestri kohta eraldi . Arvesse lähevad kõik uue semestri algusele eelneva kuupäeva seisuga õpitulemused . Varasemate õpingute ja töökogemuse arvestamise ( VÕTA ) otsuse alusel arvestatud õpitulemusi arvestatakse VÕTA otsuse tegemise semestril ja õppeplaani alusel arvestatud õpitulemusi nende esitamise semestril . Õppekorralduse pealehele Moodulite valimine Loe lähemalt Varasemate õpingute ja töökogemuse arvestamine ( VÕTA ) Loe lähemalt Õppetasud Loe lähemalt Õppetoetused ja stipendiumid Loe lähemalt Teadmussiirdedoktorant ühendab töö ja õpingud Teadmussiirdedoktorantuur pakub ettevõttele , ülikoolile ja doktorandile ainulaadset koostöövõimalust . Selle ilmekaks näiteks on Jaan Vihalemm , kes rakendab oma teadustöö tulemusi ettevõttes BiotaTec . Tartu Ülikooli üliõpilasi oodatakse kandideerima Enlighti kaasatuse auhinnale Tartu Ülikooli üliõpilased saavad kandideerida Enlighti kaasatuse auhinnale , mis antakse esimest korda üle Tartus 7.–9 . oktoobrini toimuval õpetamise ja õppimise konverentsil . Sel aastal auhinnatakse üliõpilaste projekte ja algatusi . Uueks Tartu Ülikooli vabade kunstide professoriks saab muusik Kadri Voorand Tuleval õppeaastal saab Tartu Ülikooli uueks vabade kunstide professoriks laulja , pianist ja helilooja Kadri Voorand , kelle loengukursuse keskmes on elumuutev looming . Ameti annab talle üle senine professor lavastaja Peeter Jalakas , kellega peetakse 23. mai õhtupoolikul toomkiriku pööningusaalis avalik vestlus teemal „ Tunne ja mõte “ . Tartu Ülikooli hooned kaardil Tartu Ülikooli kontaktandmed Andmekaitsetingimused Arvutiabi Teenused ja hanked Meenepood Veebi tagasiside')]"
      ]
     },
     "execution_count": 52,
     "metadata": {},
     "output_type": "execute_result"
    }
   ],
   "source": [
    "# Check\n",
    "vectorstore.similarity_search(\"õppekavade arv Tartu ülikoolis\")"
   ]
  },
  {
   "cell_type": "code",
   "execution_count": 53,
   "metadata": {},
   "outputs": [],
   "source": [
    "contextualize_q_system_prompt = (\n",
    "    \"Given a chat history and the latest user question \"\n",
    "    \"which might reference context in the chat history, \"\n",
    "    \"formulate a standalone question which can be understood \"\n",
    "    \"without the chat history. Do NOT answer the question, \"\n",
    "    \"just reformulate it if needed and otherwise return it as is\"\n",
    ")\n",
    "\n",
    "contextualize_q_prompt = ChatPromptTemplate.from_messages(\n",
    "    [\n",
    "        (\"system\", contextualize_q_system_prompt),\n",
    "        MessagesPlaceholder(\"chat_history\"),\n",
    "        (\"human\", \"{input}\"),\n",
    "    ]\n",
    ")\n",
    "\n",
    "\n",
    "history_aware_retriever = create_history_aware_retriever(\n",
    "    llm, retriever, contextualize_q_prompt\n",
    ")"
   ]
  },
  {
   "cell_type": "code",
   "execution_count": 54,
   "metadata": {},
   "outputs": [],
   "source": [
    "system_prompt = (\n",
    "    \"Context information is below.\\n\"\n",
    "    \"---------------------\\n\"\n",
    "    \"{context}\\n\"\n",
    "    \"---------------------\\n\"\n",
    "    \"Given the context information and not prior knowledge,\"\n",
    "    \"Please answer the question, please answer user question\"\n",
    "    #\"Please answer the question: {query}\\n\"\n",
    "    #\"In language {language}\"\n",
    ")\n",
    "\n",
    "qa_prompt = ChatPromptTemplate.from_messages(\n",
    "    [\n",
    "        (\"system\", system_prompt),\n",
    "        MessagesPlaceholder(\"chat_history\"),\n",
    "        (\"human\", \"{input}\"),\n",
    "    ]\n",
    ")\n",
    "\n",
    "question_answer_chain = create_stuff_documents_chain(llm, qa_prompt)\n",
    "rag_chain = create_retrieval_chain(history_aware_retriever, question_answer_chain)"
   ]
  },
  {
   "cell_type": "code",
   "execution_count": 57,
   "metadata": {},
   "outputs": [],
   "source": [
    "store = {}\n",
    "\n",
    "def get_session_history(session_id: str) -> BaseChatMessageHistory:\n",
    "    if session_id not in store:\n",
    "        store[session_id] = ChatMessageHistory()\n",
    "    return store[session_id]\n",
    "\n",
    "\n",
    "conversational_rag_chain = RunnableWithMessageHistory(\n",
    "    rag_chain,\n",
    "    get_session_history,\n",
    "    input_messages_key=\"input\",\n",
    "    history_messages_key=\"chat_history\",\n",
    "    output_messages_key=\"answer\",\n",
    ")"
   ]
  },
  {
   "cell_type": "code",
   "execution_count": 58,
   "metadata": {},
   "outputs": [
    {
     "data": {
      "text/plain": [
       "'Jaan Aru is an associate professor at the Institute of Computer Science at the University of Tartu in Estonia. He studied psychology in Berlin, completed his PhD at the Max Planck Institute for Brain Research, and received a Marie Skłodowska-Curie fellowship for a post-doc with Matthew Larkum in Berlin. Jaan Aru is also one of the principal investigators at the Natural and Artificial Intelligence Lab, where he combines AI and deep learning with neuroscience, physics, and psychology. Additionally, he has published popular scientific books and received awards for science communication.'"
      ]
     },
     "execution_count": 58,
     "metadata": {},
     "output_type": "execute_result"
    }
   ],
   "source": [
    "conversational_rag_chain.invoke(\n",
    "    {\"input\": \"Who is Jaan Aru?\"},\n",
    "    config={\n",
    "        \"configurable\": {\"session_id\": \"abc123\"}\n",
    "    },  # constructs a key \"abc123\" in `store`.\n",
    ")[\"answer\"]"
   ]
  },
  {
   "cell_type": "code",
   "execution_count": 61,
   "metadata": {},
   "outputs": [
    {
     "name": "stdout",
     "output_type": "stream",
     "text": [
      "User: Who is Jaan Aru?\n",
      "\n",
      "AI: Jaan Aru is an associate professor at the Institute of Computer Science at the University of Tartu in Estonia. He studied psychology in Berlin, completed his PhD at the Max Planck Institute for Brain Research, and received a Marie Skłodowska-Curie fellowship for a post-doc with Matthew Larkum in Berlin. Jaan Aru is also one of the principal investigators at the Natural and Artificial Intelligence Lab, where he combines AI and deep learning with neuroscience, physics, and psychology. Additionally, he has published popular scientific books and received awards for science communication.\n",
      "\n",
      "User: Which research group does he work at?\n",
      "\n",
      "AI: Jaan Aru works at the Natural and Artificial Intelligence Lab at the University of Tartu.\n",
      "\n"
     ]
    }
   ],
   "source": [
    "from langchain_core.messages import AIMessage\n",
    "\n",
    "for message in store[\"abc123\"].messages:\n",
    "    if isinstance(message, AIMessage):\n",
    "        prefix = \"AI\"\n",
    "    else:\n",
    "        prefix = \"User\"\n",
    "\n",
    "    print(f\"{prefix}: {message.content}\\n\")"
   ]
  },
  {
   "cell_type": "code",
   "execution_count": 60,
   "metadata": {},
   "outputs": [
    {
     "data": {
      "text/plain": [
       "'Jaan Aru works at the Natural and Artificial Intelligence Lab at the University of Tartu.'"
      ]
     },
     "execution_count": 60,
     "metadata": {},
     "output_type": "execute_result"
    }
   ],
   "source": [
    "conversational_rag_chain.invoke(\n",
    "    {\"input\": \"Which research group does he work at?\"},\n",
    "    config={\n",
    "        \"configurable\": {\"session_id\": \"abc123\"}\n",
    "    },\n",
    ")[\"answer\"]\n",
    "\n"
   ]
  },
  {
   "cell_type": "code",
   "execution_count": 62,
   "metadata": {},
   "outputs": [
    {
     "data": {
      "text/plain": [
       "\"Jaan Aru's email is jaan.aru@gmail.com.\""
      ]
     },
     "execution_count": 62,
     "metadata": {},
     "output_type": "execute_result"
    }
   ],
   "source": [
    "conversational_rag_chain.invoke(\n",
    "    {\"input\": \"What his email?\"},\n",
    "    config={\n",
    "        \"configurable\": {\"session_id\": \"abc123\"}\n",
    "    },\n",
    ")[\"answer\"]\n"
   ]
  },
  {
   "cell_type": "code",
   "execution_count": 27,
   "metadata": {},
   "outputs": [
    {
     "data": {
      "text/plain": [
       "'51864a0f-ac94-4ebb-9a1b-cdc97e980dcc'"
      ]
     },
     "execution_count": 27,
     "metadata": {},
     "output_type": "execute_result"
    }
   ],
   "source": [
    "import uuid\n",
    "str(uuid.uuid4())\n"
   ]
  }
 ],
 "metadata": {
  "kernelspec": {
   "display_name": "ut-rag",
   "language": "python",
   "name": "python3"
  },
  "language_info": {
   "codemirror_mode": {
    "name": "ipython",
    "version": 3
   },
   "file_extension": ".py",
   "mimetype": "text/x-python",
   "name": "python",
   "nbconvert_exporter": "python",
   "pygments_lexer": "ipython3",
   "version": "3.11.9"
  }
 },
 "nbformat": 4,
 "nbformat_minor": 2
}
